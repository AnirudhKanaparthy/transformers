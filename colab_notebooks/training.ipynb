{
  "cells": [
    {
      "cell_type": "code",
      "execution_count": null,
      "metadata": {
        "colab": {
          "base_uri": "https://localhost:8080/"
        },
        "id": "K7EPfRQzw4l7",
        "outputId": "fb35f066-8cb2-4383-dec1-58a6ed95ba3a"
      },
      "outputs": [
        {
          "name": "stdout",
          "output_type": "stream",
          "text": [
            "Cloning into 'transformers'...\n",
            "remote: Enumerating objects: 38, done.\u001b[K\n",
            "remote: Counting objects: 100% (38/38), done.\u001b[K\n",
            "remote: Compressing objects: 100% (32/32), done.\u001b[K\n",
            "remote: Total 38 (delta 10), reused 32 (delta 4), pack-reused 0 (from 0)\u001b[K\n",
            "Receiving objects: 100% (38/38), 232.12 KiB | 1.67 MiB/s, done.\n",
            "Resolving deltas: 100% (10/10), done.\n"
          ]
        }
      ],
      "source": [
        "!git clone --single-branch --branch mixer https://github.com/AnirudhKanaparthy/transformers.git"
      ]
    },
    {
      "cell_type": "code",
      "execution_count": null,
      "metadata": {
        "colab": {
          "base_uri": "https://localhost:8080/"
        },
        "id": "Zt2CyhMrw6Kg",
        "outputId": "f2a29d04-628e-455c-839c-ccdb75ad3cc0"
      },
      "outputs": [
        {
          "name": "stdout",
          "output_type": "stream",
          "text": [
            "--2024-12-31 16:11:01--  https://raw.githubusercontent.com/karpathy/char-rnn/master/data/tinyshakespeare/input.txt\n",
            "Resolving raw.githubusercontent.com (raw.githubusercontent.com)... 185.199.108.133, 185.199.109.133, 185.199.110.133, ...\n",
            "Connecting to raw.githubusercontent.com (raw.githubusercontent.com)|185.199.108.133|:443... connected.\n",
            "HTTP request sent, awaiting response... 200 OK\n",
            "Length: 1115394 (1.1M) [text/plain]\n",
            "Saving to: ‘data/tinyshakespeare.txt’\n",
            "\n",
            "data/tinyshakespear 100%[===================>]   1.06M  3.95MB/s    in 0.3s    \n",
            "\n",
            "2024-12-31 16:11:02 (3.95 MB/s) - ‘data/tinyshakespeare.txt’ saved [1115394/1115394]\n",
            "\n"
          ]
        }
      ],
      "source": [
        "!mkdir -p data\n",
        "!wget -O \"data/tinyshakespeare.txt\" https://raw.githubusercontent.com/karpathy/char-rnn/master/data/tinyshakespeare/input.txt"
      ]
    },
    {
      "cell_type": "markdown",
      "metadata": {
        "id": "ojq-NvM8RKpn"
      },
      "source": [
        "## Import PyDrive so that we can put checkpoints in our Google Drive"
      ]
    },
    {
      "cell_type": "code",
      "execution_count": null,
      "metadata": {
        "id": "-PSd7fOMO2I_"
      },
      "outputs": [],
      "source": [
        "!pip install -U -q PyDrive"
      ]
    },
    {
      "cell_type": "code",
      "execution_count": null,
      "metadata": {
        "id": "Agbp_FVyw-D3"
      },
      "outputs": [],
      "source": [
        "import sys\n",
        "from datetime import datetime\n",
        "from pathlib import PosixPath\n",
        "from typing import Callable, Union"
      ]
    },
    {
      "cell_type": "code",
      "execution_count": null,
      "metadata": {
        "id": "TGQTCnJzwyp9"
      },
      "outputs": [],
      "source": [
        "import torch"
      ]
    },
    {
      "cell_type": "markdown",
      "metadata": {
        "id": "8C4fPVAMwyp-"
      },
      "source": [
        "Importing `torch` takes time"
      ]
    },
    {
      "cell_type": "code",
      "execution_count": null,
      "metadata": {
        "id": "VT5KybuKw79e"
      },
      "outputs": [],
      "source": [
        "from google.colab import drive, files"
      ]
    },
    {
      "cell_type": "code",
      "execution_count": null,
      "metadata": {
        "id": "mytIq8_NOzB8"
      },
      "outputs": [],
      "source": [
        "import matplotlib.pyplot as plt\n",
        "import seaborn as sns\n",
        "import pandas as pd"
      ]
    },
    {
      "cell_type": "code",
      "execution_count": null,
      "metadata": {
        "colab": {
          "base_uri": "https://localhost:8080/"
        },
        "id": "TA8-jnUNO0eQ",
        "outputId": "6ffc0d73-667d-4ff3-e91e-da7cf1115d43"
      },
      "outputs": [
        {
          "name": "stderr",
          "output_type": "stream",
          "text": [
            "WARNING:root:pydrive is deprecated and no longer maintained. We recommend that you migrate your projects to pydrive2, the maintained fork of pydrive\n"
          ]
        }
      ],
      "source": [
        "from pydrive.auth import GoogleAuth\n",
        "from pydrive.drive import GoogleDrive\n",
        "from google.colab import auth\n",
        "from oauth2client.client import GoogleCredentials"
      ]
    },
    {
      "cell_type": "code",
      "execution_count": null,
      "metadata": {
        "id": "-4Wcsm2LOvPM"
      },
      "outputs": [],
      "source": [
        "sys.path.append('/content/transformers')"
      ]
    },
    {
      "cell_type": "code",
      "execution_count": null,
      "metadata": {
        "id": "7AsNhujCwyp_"
      },
      "outputs": [],
      "source": [
        "from transformers.simple_transformer import SimpleDecoderTransformer\n",
        "from transformers.constants import DataSplit\n",
        "from transformers.train import train_transformer, TrainingConfig"
      ]
    },
    {
      "cell_type": "markdown",
      "metadata": {
        "id": "RucDY-BGKNbj"
      },
      "source": [
        "Authenticate and create PyDrive client"
      ]
    },
    {
      "cell_type": "code",
      "execution_count": null,
      "metadata": {
        "id": "z1ZEKyMPKMFq"
      },
      "outputs": [],
      "source": [
        "auth.authenticate_user()\n",
        "gauth = GoogleAuth()\n",
        "gauth.credentials = GoogleCredentials.get_application_default()\n",
        "drive = GoogleDrive(gauth)"
      ]
    },
    {
      "cell_type": "markdown",
      "metadata": {
        "id": "d4A583dMwyqA"
      },
      "source": [
        "## Hyper Parameters"
      ]
    },
    {
      "cell_type": "code",
      "execution_count": null,
      "metadata": {
        "id": "ACi4h7u2wyqA"
      },
      "outputs": [],
      "source": [
        "# --------------------------------------------------------------------------------------------------- #\n",
        "\n",
        "dataset_path = 'data/tinyshakespeare.txt'\n",
        "percent_train = 0.90\n",
        "\n",
        "batch_size = 64\n",
        "context_length = 256\n",
        "\n",
        "n_embd = 384\n",
        "n_layer = 6\n",
        "num_head = 6\n",
        "dropout = 0.2\n",
        "\n",
        "learning_rate = 3e-4\n",
        "max_iters = 5000\n",
        "device = 'cuda' if torch.cuda.is_available() else 'cpu'\n",
        "\n",
        "eval_intervals = 300\n",
        "eval_iters = 200\n",
        "\n",
        "checkpoint_dir='./checkpoints'\n",
        "checkpoint_interval = 500\n",
        "\n",
        "# --------------------------------------------------------------------------------------------------- #"
      ]
    },
    {
      "cell_type": "code",
      "execution_count": null,
      "metadata": {
        "colab": {
          "base_uri": "https://localhost:8080/",
          "height": 35
        },
        "id": "0Mi7BAFKwyqA",
        "outputId": "e6db6c48-85f2-4e84-826b-084bc19ef5b9"
      },
      "outputs": [
        {
          "data": {
            "application/vnd.google.colaboratory.intrinsic+json": {
              "type": "string"
            },
            "text/plain": [
              "'Running on device: cpu, cuda version: 12.1'"
            ]
          },
          "execution_count": 13,
          "metadata": {},
          "output_type": "execute_result"
        }
      ],
      "source": [
        "f'Running on device: {device}, cuda version: {torch.version.cuda}'"
      ]
    },
    {
      "cell_type": "markdown",
      "metadata": {
        "id": "Do1LGAFowyqA"
      },
      "source": [
        "## Loading the Dataset"
      ]
    },
    {
      "cell_type": "markdown",
      "metadata": {
        "id": "4XnTtmnWwyqA"
      },
      "source": [
        "### Opening and Reading the File"
      ]
    },
    {
      "cell_type": "code",
      "execution_count": null,
      "metadata": {
        "id": "H6ZHKdF3wyqA"
      },
      "outputs": [],
      "source": [
        "with open(dataset_path, 'r') as fp:\n",
        "    dataset = fp.read()"
      ]
    },
    {
      "cell_type": "markdown",
      "metadata": {
        "id": "pNfY0WBrwyqB"
      },
      "source": [
        "### Vocabulary\n",
        "Creating a vocabulary. Essentially contains all the *tokens* which is recognised by the language model."
      ]
    },
    {
      "cell_type": "code",
      "execution_count": null,
      "metadata": {
        "id": "qAroYl6_wyqB"
      },
      "outputs": [],
      "source": [
        "vocabulary = sorted(list(set(dataset)))\n",
        "vocab_size = len(vocabulary)"
      ]
    },
    {
      "cell_type": "markdown",
      "metadata": {
        "id": "oODwQHb0wyqB"
      },
      "source": [
        "### Encoders and Decoder\n",
        "We are using a simple method to encode and decode the text data into numbers (integers)."
      ]
    },
    {
      "cell_type": "code",
      "execution_count": null,
      "metadata": {
        "id": "oifrj8WfwyqB"
      },
      "outputs": [],
      "source": [
        "stoi = {ch: i for i, ch in enumerate(vocabulary)}\n",
        "itos = {i: ch for i, ch in enumerate(vocabulary)}\n",
        "\n",
        "def encode(x): return [stoi[ch] for ch in x]\n",
        "def decode(x): return ''.join([itos[i] for i in x])\n",
        "\n",
        "test_text = 'This is a sample sentence.'\n",
        "assert (test_text == decode(encode(test_text)))"
      ]
    },
    {
      "cell_type": "markdown",
      "metadata": {
        "id": "svIlVS9vwyqB"
      },
      "source": [
        "### Encoding All the Dataset\n",
        "We encode all the dataset into numbers."
      ]
    },
    {
      "cell_type": "code",
      "execution_count": null,
      "metadata": {
        "id": "k0_i10FvwyqB"
      },
      "outputs": [],
      "source": [
        "encoded_dataset = torch.tensor(encode(dataset), dtype=torch.long)"
      ]
    },
    {
      "cell_type": "markdown",
      "metadata": {
        "id": "whxoMkYRwyqB"
      },
      "source": [
        "### Split Dataset\n",
        "We split the dataset to train the model and validate the model. Validation is important as we are trying to generalise the model so that it can produce sentences which are \"like\" the training data but not exactly the training data."
      ]
    },
    {
      "cell_type": "code",
      "execution_count": null,
      "metadata": {
        "id": "6pJbuR9FwyqB"
      },
      "outputs": [],
      "source": [
        "idx = int(len(encoded_dataset) * percent_train)\n",
        "train_data, val_data = encoded_dataset[:idx], encoded_dataset[idx:]"
      ]
    },
    {
      "cell_type": "code",
      "execution_count": null,
      "metadata": {
        "id": "0nbG7R_zwyqC"
      },
      "outputs": [],
      "source": [
        "def get_data(split: DataSplit) -> torch.Tensor:\n",
        "    return train_data if split == DataSplit.TRAIN.name else val_data"
      ]
    },
    {
      "cell_type": "markdown",
      "metadata": {
        "id": "o0VU4NCvwyqC"
      },
      "source": [
        "## Training and Testing the Model"
      ]
    },
    {
      "cell_type": "code",
      "execution_count": null,
      "metadata": {
        "id": "wHO6X8wMwyqC"
      },
      "outputs": [],
      "source": [
        "config = TrainingConfig(\n",
        "    batch_size=batch_size,\n",
        "    context_length=context_length,\n",
        "    maximum_iterations=max_iters,\n",
        "    eval_intervals=eval_intervals,\n",
        "    eval_iterations=eval_iters,\n",
        "    checkpoint_interval=checkpoint_interval,\n",
        "    checkpoint_dir=checkpoint_dir,\n",
        "    device=device\n",
        ")"
      ]
    },
    {
      "cell_type": "code",
      "execution_count": null,
      "metadata": {
        "id": "lEjKxQQuwyqC"
      },
      "outputs": [],
      "source": [
        "model = SimpleDecoderTransformer(\n",
        "    vocabulary_size=vocab_size,\n",
        "    embedding_dim=n_embd,\n",
        "    context_length=context_length,\n",
        "    number_of_layers=n_layer,\n",
        "    number_of_heads=num_head,\n",
        "    dropout=dropout,\n",
        "    device=device\n",
        ").to(device)"
      ]
    },
    {
      "cell_type": "code",
      "execution_count": null,
      "metadata": {
        "id": "9KFJcHkMwyqC"
      },
      "outputs": [],
      "source": [
        "optimizer = torch.optim.AdamW(model.parameters(), lr=learning_rate)\n",
        "scheduler = torch.optim.lr_scheduler.CosineAnnealingLR(optimizer, T_max=config.maximum_iterations)"
      ]
    },
    {
      "cell_type": "markdown",
      "metadata": {
        "id": "nzelIZicPeuG"
      },
      "source": [
        "### Creating a Google Drive folder to store all the checkpoints"
      ]
    },
    {
      "cell_type": "code",
      "execution_count": null,
      "metadata": {
        "colab": {
          "base_uri": "https://localhost:8080/"
        },
        "id": "4hVqaghmJ9Of",
        "outputId": "a6736655-052e-4732-eee9-d4ad29c36728"
      },
      "outputs": [
        {
          "name": "stdout",
          "output_type": "stream",
          "text": [
            "title: checkpoint_12/31/2024T16:11:52, id: 1TSTqSYShxUcsskhTLg8BjXxdUgzcahUR\n"
          ]
        }
      ],
      "source": [
        "#Create folder\n",
        "folder_name = 'checkpoint_' + datetime.now().strftime('%m/%d/%YT%H:%M:%S')\n",
        "folder_metadata = {'title' : folder_name, 'mimeType' : 'application/vnd.google-apps.folder'}\n",
        "folder = drive.CreateFile(folder_metadata)\n",
        "folder.Upload()\n",
        "\n",
        "#Get folder info and print to screen\n",
        "foldertitle = folder['title']\n",
        "folderid = folder['id']\n",
        "print('title: %s, id: %s' % (foldertitle, folderid))"
      ]
    },
    {
      "cell_type": "code",
      "execution_count": null,
      "metadata": {
        "id": "fZSIJvvixcm3"
      },
      "outputs": [],
      "source": [
        "def upload_file(filepath: str) -> None:\n",
        "    # This is not working in any browser other than Chrome\n",
        "    # files.download(checkpoint_path)\n",
        "    print(f'Uploading file with, filepath: {filepath}')\n",
        "\n",
        "    uploaded = drive.CreateFile({ 'parents': [{ 'id': folderid }] })\n",
        "    uploaded.SetContentFile(filepath)\n",
        "    uploaded.Upload()\n",
        "\n",
        "    print(f'Uploaded file with, id: {uploaded.get(\"id\")}, filepath: {filepath}')"
      ]
    },
    {
      "cell_type": "markdown",
      "metadata": {
        "id": "bP78nHD1Qd8-"
      },
      "source": [
        "Create a callback for the trainer to use to upload the checkpoints."
      ]
    },
    {
      "cell_type": "code",
      "execution_count": null,
      "metadata": {
        "id": "WTDV0SZMQUmZ"
      },
      "outputs": [],
      "source": [
        "def checkpoint_callback(_: dict, checkpoint_path: Union[PosixPath, str]) -> None:\n",
        "    if isinstance(checkpoint_path, PosixPath):\n",
        "        checkpoint_path = str(checkpoint_path)\n",
        "    try:\n",
        "        upload_file(checkpoint_path)\n",
        "    except Exception as e:\n",
        "        print(f'Exception occured while uploading checkpoint: {e}')\n",
        "        return"
      ]
    },
    {
      "cell_type": "code",
      "execution_count": null,
      "metadata": {
        "colab": {
          "base_uri": "https://localhost:8080/",
          "height": 570,
          "referenced_widgets": [
            "e1010ddded7d49fa88b8463b1c6fc18a",
            "ae96275240d245fd833f6b67a297b912",
            "be9127f03dc442abb6f8e26f0b207a3c",
            "26491c70970b4c3dab356ba412b1d9ff",
            "aa6412ec74214074a254979ad5bf3fc8",
            "fbb279b125d9424c84ec91c2c077e2ad",
            "8f78c09b91de4d828df3c49489bcfd53",
            "afcf0dbb50a74596b678ad95fee177c3",
            "37d45d446ddc47a386568e5e1e964027",
            "4c72e691f5874040a5891c96c2658329",
            "809820abaa4b4b37a6f4615ce3a73009"
          ]
        },
        "id": "WydIJhSbwyqC",
        "outputId": "6687d20b-c4cd-47e9-cb72-c4050f0ea4e4"
      },
      "outputs": [
        {
          "data": {
            "application/vnd.jupyter.widget-view+json": {
              "model_id": "e1010ddded7d49fa88b8463b1c6fc18a",
              "version_major": 2,
              "version_minor": 0
            },
            "text/plain": [
              "Training:   0%|                                                                                               …"
            ]
          },
          "metadata": {},
          "output_type": "display_data"
        },
        {
          "name": "stdout",
          "output_type": "stream",
          "text": [
            "Uploading checkpoints/checkpoint_9.pt\n",
            "Uploaded file with, id: 1mey-mmDInZEWBmp-u4yjQDRLQe1nD7Du, filepath: checkpoints/checkpoint_9.pt\n",
            "Uploaded\n",
            "Uploading checkpoints/checkpoint_19.pt\n",
            "Uploaded file with, id: 1TSVbWgaz9wXBDi_3Gbc52WsNA_ujjwXl, filepath: checkpoints/checkpoint_19.pt\n",
            "Uploaded\n",
            "Uploading checkpoints/checkpoint_29.pt\n",
            "Uploaded file with, id: 1hXGKHOh33tvYvfe7NvCL-veW1LTGk4CD, filepath: checkpoints/checkpoint_29.pt\n",
            "Uploaded\n",
            "Uploading checkpoints/checkpoint_39.pt\n",
            "Uploaded file with, id: 1GJAHakNQlsrW6xoRYsnvMXiPJVKv5dp8, filepath: checkpoints/checkpoint_39.pt\n",
            "Uploaded\n",
            "Uploading checkpoints/checkpoint_49.pt\n",
            "Uploaded file with, id: 1Jtv3At_840gBneu24e0MCALcHWMwTaaS, filepath: checkpoints/checkpoint_49.pt\n",
            "Uploaded\n",
            "Uploading checkpoints/checkpoint_59.pt\n",
            "Uploaded file with, id: 1a01ZDn03y7QhAhSGBCcwL3yOoxYQyFwP, filepath: checkpoints/checkpoint_59.pt\n",
            "Uploaded\n",
            "Uploading checkpoints/checkpoint_69.pt\n",
            "Uploaded file with, id: 1HrP1zZeU5TRenNY4LZYH_XBVo8sLnJPK, filepath: checkpoints/checkpoint_69.pt\n",
            "Uploaded\n",
            "Uploading checkpoints/checkpoint_79.pt\n",
            "Uploaded file with, id: 1VvU51aZ63wdGc6fAOL6wEqvtLqWSKC3J, filepath: checkpoints/checkpoint_79.pt\n",
            "Uploaded\n",
            "Uploading checkpoints/checkpoint_89.pt\n",
            "Uploaded file with, id: 1XjWY3umg_a42jl0v-sinCB4V2EBNrzd-, filepath: checkpoints/checkpoint_89.pt\n",
            "Uploaded\n",
            "Uploading checkpoints/checkpoint_99.pt\n",
            "Uploaded file with, id: 18YPdvcfRl1LvS4YpPWbxMSJEB2-4OJL_, filepath: checkpoints/checkpoint_99.pt\n",
            "Uploaded\n"
          ]
        }
      ],
      "source": [
        "all_losses = train_transformer(\n",
        "    model=model,\n",
        "    optimizer=optimizer,\n",
        "    scheduler=scheduler,\n",
        "    get_data=get_data,\n",
        "    config=config,\n",
        "    checkpoint_callback=checkpoint_callback\n",
        ")"
      ]
    },
    {
      "cell_type": "code",
      "execution_count": null,
      "metadata": {
        "colab": {
          "base_uri": "https://localhost:8080/"
        },
        "id": "akcY1FCk9FN_",
        "outputId": "01de6204-a8b7-4124-cbde-f59a3c3b05af"
      },
      "outputs": [
        {
          "name": "stdout",
          "output_type": "stream",
          "text": [
            "  adding: checkpoints/logs/ (stored 0%)\n",
            "  adding: checkpoints/logs/run_1735661490.log (stored 0%)\n",
            "Uploaded file with, id: 10S6uyYk22u5dOCcpbzoKaj2VjlxjiRBA, filepath: checkpoints/logs.zip\n",
            "Uploaded file with, id: 1fECbZztP8JPz1GzmfbuPJQwz4qK7NKm7, filepath: checkpoints/latest.txt\n"
          ]
        }
      ],
      "source": [
        "!zip -r checkpoints/logs.zip checkpoints/logs\n",
        "upload_file('checkpoints/logs.zip')\n",
        "upload_file('checkpoints/latest.txt')"
      ]
    },
    {
      "cell_type": "code",
      "execution_count": null,
      "metadata": {
        "colab": {
          "base_uri": "https://localhost:8080/"
        },
        "id": "vnOEZ2ngwyqC",
        "outputId": "7b472438-4a0f-4d7f-903d-ca4ddc12b53a"
      },
      "outputs": [
        {
          "name": "stdout",
          "output_type": "stream",
          "text": [
            "User: What is life?\n",
            "Model: What is life?ke : J nahTiae tYefem a$rfiMXNt tA s thB reeee e!g  fs rr\n",
            "hAEmm:dl mBheimai BQ.w tuCy.aTrKqehR$os\n",
            "Iy a\n",
            "aonneinAmentu  racs Phs ms!dvlaG3thG ateCecvSeaiiAn esi\n",
            "acW , tIihlVutLn ymeh nmeve d\n",
            " RSlpg&p hMcti  IhfAWm tr t kuvLMro hKtFA.naer TsrteUenK rS t c:ih : oe v gd  yaeit a InoerdclHmV\n",
            ":  ' es\n",
            "hA&uuiPa?ram,o,ynX,Imm \n",
            "kfYI t aOvoh ovse nzs YVerQ, ncdayhn y do RtiMAakA' d m aa o?a mpt un.LSaaoeoof n t rWmtXhswy g Gm ctMatiKrnsyo:t enouLe ehyLk$quh, o rQau\n",
            "moof  u vcgwzSnl ,yer,el:\n",
            "f  t rVF?\n",
            "h vjrw\n"
          ]
        }
      ],
      "source": [
        "generate_next_tokens = 500\n",
        "prompt = 'What is life?'\n",
        "\n",
        "idx = torch.tensor([encode(prompt)], dtype=torch.long, device=device)\n",
        "generation = decode(model.generate(idx, max_next_tokens=generate_next_tokens)[0].tolist())\n",
        "print(f'User: {prompt}\\nModel: {generation}')"
      ]
    },
    {
      "cell_type": "code",
      "execution_count": null,
      "metadata": {
        "colab": {
          "base_uri": "https://localhost:8080/",
          "height": 573
        },
        "id": "UFFdDJGUwyqD",
        "outputId": "3fe02185-5975-4a6e-adb5-9d4a6727f85c"
      },
      "outputs": [
        {
          "data": {
            "image/png": "[encoded data removed]",
            "text/plain": [
              "<Figure size 1000x600 with 1 Axes>"
            ]
          },
          "metadata": {},
          "output_type": "display_data"
        }
      ],
      "source": [
        "df = pd.DataFrame({\n",
        "    'iter': range(len(all_losses[DataSplit.TRAIN.name])),\n",
        "    'train': all_losses[DataSplit.TRAIN.name],\n",
        "    'val': all_losses[DataSplit.VALIDATION.name]\n",
        "})\n",
        "\n",
        "# Melt the DataFrame to create a \"long-form\" DataFrame\n",
        "df_melted = pd.melt(df, id_vars=['iter'], value_vars=['train', 'val'],\n",
        "                    var_name='loss_type', value_name='loss')\n",
        "\n",
        "# Create the plot\n",
        "sns.set_theme()\n",
        "plt.figure(figsize=(10, 6))\n",
        "sns.lineplot(data=df_melted, x='iter', y='loss', hue='loss_type')\n",
        "\n",
        "plt.title('Training and Validation Losses')\n",
        "plt.xlabel('Iteration')\n",
        "plt.ylabel('Loss')\n",
        "plt.legend(title='Loss Type')\n",
        "\n",
        "plt.show()"
      ]
    },
    {
      "cell_type": "code",
      "execution_count": null,
      "metadata": {
        "id": "jfuIajXI8y7n"
      },
      "outputs": [],
      "source": [
        "!mkdir -p weights"
      ]
    },
    {
      "cell_type": "code",
      "execution_count": null,
      "metadata": {
        "id": "kTGL36eNwyqD"
      },
      "outputs": [],
      "source": [
        "torch.save(model, 'weights/tinyGPT.pb')"
      ]
    },
    {
      "cell_type": "code",
      "execution_count": null,
      "metadata": {
        "colab": {
          "base_uri": "https://localhost:8080/",
          "height": 17
        },
        "id": "ZTK02q19xqUb",
        "outputId": "dd7ebe1f-f88f-4c79-d2f0-2ef9e7945fd1"
      },
      "outputs": [
        {
          "data": {
            "application/javascript": "\n    async function download(id, filename, size) {\n      if (!google.colab.kernel.accessAllowed) {\n        return;\n      }\n      const div = document.createElement('div');\n      const label = document.createElement('label');\n      label.textContent = `Downloading \"${filename}\": `;\n      div.appendChild(label);\n      const progress = document.createElement('progress');\n      progress.max = size;\n      div.appendChild(progress);\n      document.body.appendChild(div);\n\n      const buffers = [];\n      let downloaded = 0;\n\n      const channel = await google.colab.kernel.comms.open(id);\n      // Send a message to notify the kernel that we're ready.\n      channel.send({})\n\n      for await (const message of channel.messages) {\n        // Send a message to notify the kernel that we're ready.\n        channel.send({})\n        if (message.buffers) {\n          for (const buffer of message.buffers) {\n            buffers.push(buffer);\n            downloaded += buffer.byteLength;\n            progress.value = downloaded;\n          }\n        }\n      }\n      const blob = new Blob(buffers, {type: 'application/binary'});\n      const a = document.createElement('a');\n      a.href = window.URL.createObjectURL(blob);\n      a.download = filename;\n      div.appendChild(a);\n      a.click();\n      div.remove();\n    }\n  ",
            "text/plain": [
              "<IPython.core.display.Javascript object>"
            ]
          },
          "metadata": {},
          "output_type": "display_data"
        },
        {
          "data": {
            "application/javascript": "download(\"download_1949be28-f147-463e-bbe2-812cc7b6abc3\", \"tinyGPT.pb\", 1974230)",
            "text/plain": [
              "<IPython.core.display.Javascript object>"
            ]
          },
          "metadata": {},
          "output_type": "display_data"
        }
      ],
      "source": [
        "upload_file('weights/tinyGPT.pb')"
      ]
    }
  ],
  "metadata": {
    "accelerator": "GPU",
    "colab": {
      "gpuType": "T4",
      "provenance": []
    },
    "kernelspec": {
      "display_name": "Python 3",
      "name": "python3"
    },
    "language_info": {
      "codemirror_mode": {
        "name": "ipython",
        "version": 3
      },
      "file_extension": ".py",
      "mimetype": "text/x-python",
      "name": "python",
      "nbconvert_exporter": "python",
      "pygments_lexer": "ipython3",
      "version": "3.11.11"
    },
    "widgets": {
      "application/vnd.jupyter.widget-state+json": {
        "26491c70970b4c3dab356ba412b1d9ff": {
          "model_module": "@jupyter-widgets/controls",
          "model_module_version": "1.5.0",
          "model_name": "HTMLModel",
          "state": {
            "_dom_classes": [],
            "_model_module": "@jupyter-widgets/controls",
            "_model_module_version": "1.5.0",
            "_model_name": "HTMLModel",
            "_view_count": null,
            "_view_module": "@jupyter-widgets/controls",
            "_view_module_version": "1.5.0",
            "_view_name": "HTMLView",
            "description": "",
            "description_tooltip": null,
            "layout": "IPY_MODEL_4c72e691f5874040a5891c96c2658329",
            "placeholder": "​",
            "style": "IPY_MODEL_809820abaa4b4b37a6f4615ce3a73009",
            "value": " 100/100 [01:30&lt;00:00,  1.17s/it, train_loss=3.2687, val_loss=3.2697, lr=7.34e-06]"
          }
        },
        "37d45d446ddc47a386568e5e1e964027": {
          "model_module": "@jupyter-widgets/controls",
          "model_module_version": "1.5.0",
          "model_name": "ProgressStyleModel",
          "state": {
            "_model_module": "@jupyter-widgets/controls",
            "_model_module_version": "1.5.0",
            "_model_name": "ProgressStyleModel",
            "_view_count": null,
            "_view_module": "@jupyter-widgets/base",
            "_view_module_version": "1.2.0",
            "_view_name": "StyleView",
            "bar_color": null,
            "description_width": ""
          }
        },
        "4c72e691f5874040a5891c96c2658329": {
          "model_module": "@jupyter-widgets/base",
          "model_module_version": "1.2.0",
          "model_name": "LayoutModel",
          "state": {
            "_model_module": "@jupyter-widgets/base",
            "_model_module_version": "1.2.0",
            "_model_name": "LayoutModel",
            "_view_count": null,
            "_view_module": "@jupyter-widgets/base",
            "_view_module_version": "1.2.0",
            "_view_name": "LayoutView",
            "align_content": null,
            "align_items": null,
            "align_self": null,
            "border": null,
            "bottom": null,
            "display": null,
            "flex": null,
            "flex_flow": null,
            "grid_area": null,
            "grid_auto_columns": null,
            "grid_auto_flow": null,
            "grid_auto_rows": null,
            "grid_column": null,
            "grid_gap": null,
            "grid_row": null,
            "grid_template_areas": null,
            "grid_template_columns": null,
            "grid_template_rows": null,
            "height": null,
            "justify_content": null,
            "justify_items": null,
            "left": null,
            "margin": null,
            "max_height": null,
            "max_width": null,
            "min_height": null,
            "min_width": null,
            "object_fit": null,
            "object_position": null,
            "order": null,
            "overflow": null,
            "overflow_x": null,
            "overflow_y": null,
            "padding": null,
            "right": null,
            "top": null,
            "visibility": null,
            "width": null
          }
        },
        "809820abaa4b4b37a6f4615ce3a73009": {
          "model_module": "@jupyter-widgets/controls",
          "model_module_version": "1.5.0",
          "model_name": "DescriptionStyleModel",
          "state": {
            "_model_module": "@jupyter-widgets/controls",
            "_model_module_version": "1.5.0",
            "_model_name": "DescriptionStyleModel",
            "_view_count": null,
            "_view_module": "@jupyter-widgets/base",
            "_view_module_version": "1.2.0",
            "_view_name": "StyleView",
            "description_width": ""
          }
        },
        "8f78c09b91de4d828df3c49489bcfd53": {
          "model_module": "@jupyter-widgets/controls",
          "model_module_version": "1.5.0",
          "model_name": "DescriptionStyleModel",
          "state": {
            "_model_module": "@jupyter-widgets/controls",
            "_model_module_version": "1.5.0",
            "_model_name": "DescriptionStyleModel",
            "_view_count": null,
            "_view_module": "@jupyter-widgets/base",
            "_view_module_version": "1.2.0",
            "_view_name": "StyleView",
            "description_width": ""
          }
        },
        "aa6412ec74214074a254979ad5bf3fc8": {
          "model_module": "@jupyter-widgets/base",
          "model_module_version": "1.2.0",
          "model_name": "LayoutModel",
          "state": {
            "_model_module": "@jupyter-widgets/base",
            "_model_module_version": "1.2.0",
            "_model_name": "LayoutModel",
            "_view_count": null,
            "_view_module": "@jupyter-widgets/base",
            "_view_module_version": "1.2.0",
            "_view_name": "LayoutView",
            "align_content": null,
            "align_items": null,
            "align_self": null,
            "border": null,
            "bottom": null,
            "display": "inline-flex",
            "flex": null,
            "flex_flow": "row wrap",
            "grid_area": null,
            "grid_auto_columns": null,
            "grid_auto_flow": null,
            "grid_auto_rows": null,
            "grid_column": null,
            "grid_gap": null,
            "grid_row": null,
            "grid_template_areas": null,
            "grid_template_columns": null,
            "grid_template_rows": null,
            "height": null,
            "justify_content": null,
            "justify_items": null,
            "left": null,
            "margin": null,
            "max_height": null,
            "max_width": null,
            "min_height": null,
            "min_width": null,
            "object_fit": null,
            "object_position": null,
            "order": null,
            "overflow": null,
            "overflow_x": null,
            "overflow_y": null,
            "padding": null,
            "right": null,
            "top": null,
            "visibility": null,
            "width": "1000px"
          }
        },
        "ae96275240d245fd833f6b67a297b912": {
          "model_module": "@jupyter-widgets/controls",
          "model_module_version": "1.5.0",
          "model_name": "HTMLModel",
          "state": {
            "_dom_classes": [],
            "_model_module": "@jupyter-widgets/controls",
            "_model_module_version": "1.5.0",
            "_model_name": "HTMLModel",
            "_view_count": null,
            "_view_module": "@jupyter-widgets/controls",
            "_view_module_version": "1.5.0",
            "_view_name": "HTMLView",
            "description": "",
            "description_tooltip": null,
            "layout": "IPY_MODEL_fbb279b125d9424c84ec91c2c077e2ad",
            "placeholder": "​",
            "style": "IPY_MODEL_8f78c09b91de4d828df3c49489bcfd53",
            "value": "Training: 100%"
          }
        },
        "afcf0dbb50a74596b678ad95fee177c3": {
          "model_module": "@jupyter-widgets/base",
          "model_module_version": "1.2.0",
          "model_name": "LayoutModel",
          "state": {
            "_model_module": "@jupyter-widgets/base",
            "_model_module_version": "1.2.0",
            "_model_name": "LayoutModel",
            "_view_count": null,
            "_view_module": "@jupyter-widgets/base",
            "_view_module_version": "1.2.0",
            "_view_name": "LayoutView",
            "align_content": null,
            "align_items": null,
            "align_self": null,
            "border": null,
            "bottom": null,
            "display": null,
            "flex": "2",
            "flex_flow": null,
            "grid_area": null,
            "grid_auto_columns": null,
            "grid_auto_flow": null,
            "grid_auto_rows": null,
            "grid_column": null,
            "grid_gap": null,
            "grid_row": null,
            "grid_template_areas": null,
            "grid_template_columns": null,
            "grid_template_rows": null,
            "height": null,
            "justify_content": null,
            "justify_items": null,
            "left": null,
            "margin": null,
            "max_height": null,
            "max_width": null,
            "min_height": null,
            "min_width": null,
            "object_fit": null,
            "object_position": null,
            "order": null,
            "overflow": null,
            "overflow_x": null,
            "overflow_y": null,
            "padding": null,
            "right": null,
            "top": null,
            "visibility": null,
            "width": null
          }
        },
        "be9127f03dc442abb6f8e26f0b207a3c": {
          "model_module": "@jupyter-widgets/controls",
          "model_module_version": "1.5.0",
          "model_name": "FloatProgressModel",
          "state": {
            "_dom_classes": [],
            "_model_module": "@jupyter-widgets/controls",
            "_model_module_version": "1.5.0",
            "_model_name": "FloatProgressModel",
            "_view_count": null,
            "_view_module": "@jupyter-widgets/controls",
            "_view_module_version": "1.5.0",
            "_view_name": "ProgressView",
            "bar_style": "success",
            "description": "",
            "description_tooltip": null,
            "layout": "IPY_MODEL_afcf0dbb50a74596b678ad95fee177c3",
            "max": 100,
            "min": 0,
            "orientation": "horizontal",
            "style": "IPY_MODEL_37d45d446ddc47a386568e5e1e964027",
            "value": 100
          }
        },
        "e1010ddded7d49fa88b8463b1c6fc18a": {
          "model_module": "@jupyter-widgets/controls",
          "model_module_version": "1.5.0",
          "model_name": "HBoxModel",
          "state": {
            "_dom_classes": [],
            "_model_module": "@jupyter-widgets/controls",
            "_model_module_version": "1.5.0",
            "_model_name": "HBoxModel",
            "_view_count": null,
            "_view_module": "@jupyter-widgets/controls",
            "_view_module_version": "1.5.0",
            "_view_name": "HBoxView",
            "box_style": "",
            "children": [
              "IPY_MODEL_ae96275240d245fd833f6b67a297b912",
              "IPY_MODEL_be9127f03dc442abb6f8e26f0b207a3c",
              "IPY_MODEL_26491c70970b4c3dab356ba412b1d9ff"
            ],
            "layout": "IPY_MODEL_aa6412ec74214074a254979ad5bf3fc8"
          }
        },
        "fbb279b125d9424c84ec91c2c077e2ad": {
          "model_module": "@jupyter-widgets/base",
          "model_module_version": "1.2.0",
          "model_name": "LayoutModel",
          "state": {
            "_model_module": "@jupyter-widgets/base",
            "_model_module_version": "1.2.0",
            "_model_name": "LayoutModel",
            "_view_count": null,
            "_view_module": "@jupyter-widgets/base",
            "_view_module_version": "1.2.0",
            "_view_name": "LayoutView",
            "align_content": null,
            "align_items": null,
            "align_self": null,
            "border": null,
            "bottom": null,
            "display": null,
            "flex": null,
            "flex_flow": null,
            "grid_area": null,
            "grid_auto_columns": null,
            "grid_auto_flow": null,
            "grid_auto_rows": null,
            "grid_column": null,
            "grid_gap": null,
            "grid_row": null,
            "grid_template_areas": null,
            "grid_template_columns": null,
            "grid_template_rows": null,
            "height": null,
            "justify_content": null,
            "justify_items": null,
            "left": null,
            "margin": null,
            "max_height": null,
            "max_width": null,
            "min_height": null,
            "min_width": null,
            "object_fit": null,
            "object_position": null,
            "order": null,
            "overflow": null,
            "overflow_x": null,
            "overflow_y": null,
            "padding": null,
            "right": null,
            "top": null,
            "visibility": null,
            "width": null
          }
        }
      }
    }
  },
  "nbformat": 4,
  "nbformat_minor": 0
}
