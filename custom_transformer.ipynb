{
  "nbformat": 4,
  "nbformat_minor": 0,
  "metadata": {
    "colab": {
      "provenance": []
    },
    "kernelspec": {
      "name": "python3",
      "display_name": "Python 3"
    },
    "language_info": {
      "name": "python"
    }
  },
  "cells": [
    {
      "cell_type": "code",
      "execution_count": null,
      "metadata": {
        "colab": {
          "base_uri": "https://localhost:8080/"
        },
        "id": "Gdq-iLHhb77S",
        "outputId": "faa77f14-44e8-4c38-a775-770705f09ef8"
      },
      "outputs": [
        {
          "output_type": "stream",
          "name": "stdout",
          "text": [
            "--2024-06-25 22:16:49--  https://raw.githubusercontent.com/karpathy/char-rnn/master/data/tinyshakespeare/input.txt\n",
            "Resolving raw.githubusercontent.com (raw.githubusercontent.com)... 185.199.110.133, 185.199.108.133, 185.199.111.133, ...\n",
            "Connecting to raw.githubusercontent.com (raw.githubusercontent.com)|185.199.110.133|:443... connected.\n",
            "HTTP request sent, awaiting response... 200 OK\n",
            "Length: 1115394 (1.1M) [text/plain]\n",
            "Saving to: ‘input.txt.1’\n",
            "\n",
            "\rinput.txt.1           0%[                    ]       0  --.-KB/s               \rinput.txt.1         100%[===================>]   1.06M  --.-KB/s    in 0.04s   \n",
            "\n",
            "2024-06-25 22:16:49 (29.0 MB/s) - ‘input.txt.1’ saved [1115394/1115394]\n",
            "\n"
          ]
        }
      ],
      "source": [
        "!wget https://raw.githubusercontent.com/karpathy/char-rnn/master/data/tinyshakespeare/input.txt"
      ]
    },
    {
      "cell_type": "code",
      "source": [
        "from google.colab import drive\n",
        "drive.mount('/content/drive')"
      ],
      "metadata": {
        "id": "qQt-ORrTcacH"
      },
      "execution_count": null,
      "outputs": []
    },
    {
      "cell_type": "code",
      "source": [
        "import torch\n",
        "from torch import nn\n",
        "from torch.nn import functional as F\n",
        "\n",
        "import matplotlib.pyplot as plt\n",
        "import seaborn as sns\n",
        "\n",
        "from tqdm import tqdm"
      ],
      "metadata": {
        "id": "HwpuxmZicGbu"
      },
      "execution_count": null,
      "outputs": []
    },
    {
      "cell_type": "markdown",
      "source": [
        "## Hyper Parameter"
      ],
      "metadata": {
        "id": "CxCGqmRwcxfr"
      }
    },
    {
      "cell_type": "code",
      "source": [
        "# --------------------------------------------------------------------------------------------------- #\n",
        "\n",
        "dataset_path = 'input.txt'\n",
        "percent_train = 0.90\n",
        "\n",
        "batch_size = 64\n",
        "context_length = 256\n",
        "\n",
        "n_embd = 384\n",
        "n_layer = 6\n",
        "num_head = 6\n",
        "dropout = 0.2\n",
        "\n",
        "learning_rate = 3e-4\n",
        "max_iters = 5000\n",
        "device = 'cuda' if torch.cuda.is_available() else 'cpu'\n",
        "\n",
        "eval_intervals = 300\n",
        "eval_iters = 200\n",
        "\n",
        "# --------------------------------------------------------------------------------------------------- #"
      ],
      "metadata": {
        "id": "zxOV0crTcJBE"
      },
      "execution_count": null,
      "outputs": []
    },
    {
      "cell_type": "markdown",
      "source": [
        "## Loading the Dataset"
      ],
      "metadata": {
        "id": "tATXDWhgc3G0"
      }
    },
    {
      "cell_type": "code",
      "source": [
        "with open(dataset_path, 'r') as fp:\n",
        "    dataset = fp.read()\n",
        "\n",
        "\"\"\"## Vocabulary\n",
        "Creating a vocabulary. Essentially contains all the *tokens* which is recognised by the language model.\n",
        "\"\"\"\n",
        "\n",
        "vocabulary = sorted(list(set(dataset)))\n",
        "vocab_size = len(vocabulary)\n",
        "\n",
        "\"\"\"## Encoders and Decoder\n",
        "We are using a simple method to encode and decode the text data into numbers (integers).\n",
        "\"\"\"\n",
        "\n",
        "stoi = { ch:i for i, ch in enumerate(vocabulary)}\n",
        "itos = { i:ch for i, ch in enumerate(vocabulary)}\n",
        "\n",
        "encode = lambda x: [stoi[ch] for ch in x]\n",
        "decode = lambda x: ''.join([itos[i] for i in x])\n",
        "\n",
        "test_text = 'This is a sample sentence.'\n",
        "assert(test_text == decode(encode(test_text)))\n",
        "\n",
        "\"\"\"## Encoding All the Dataset\n",
        "We encode all the dataset into numbers.\n",
        "\"\"\"\n",
        "\n",
        "encoded_dataset = torch.tensor(encode(dataset), dtype=torch.long)\n",
        "\n",
        "\"\"\"## Split Dataset\n",
        "We split the dataset to train the model and validate the model. Validation is important as we are trying to generalise the model so that it can produce sentences which are \"like\" the training data but not exactly the training data.\n",
        "\"\"\"\n",
        "\n",
        "idx = int(len(encoded_dataset) * percent_train)\n",
        "train_data, val_data = encoded_dataset[:idx], encoded_dataset[idx:]"
      ],
      "metadata": {
        "id": "K0G0vJGOcLjl"
      },
      "execution_count": null,
      "outputs": []
    },
    {
      "cell_type": "markdown",
      "source": [
        "## Utility Functions"
      ],
      "metadata": {
        "id": "N9MTm9Suc7ST"
      }
    },
    {
      "cell_type": "code",
      "source": [
        "def get_batch(split):\n",
        "    data = train_data if split == 'train' else val_data\n",
        "\n",
        "    ix = torch.randint(len(data) - context_length, (batch_size,))\n",
        "    x = torch.stack([data[i : i + context_length] for i in ix])\n",
        "    y = torch.stack([data[i + 1 : i + context_length + 1] for i in ix])\n",
        "\n",
        "    return x.to(device), y.to(device)\n",
        "\n",
        "\n",
        "@torch.no_grad()\n",
        "def estimate_loss():\n",
        "    out = {}\n",
        "    model.eval()\n",
        "\n",
        "    for split in ['train', 'val']:\n",
        "        losses = torch.zeros(eval_iters)\n",
        "        for k in range(eval_iters):\n",
        "            xb, yb = get_batch(split)\n",
        "            logits, loss = model(xb, yb)\n",
        "\n",
        "            losses[k] = loss.item()\n",
        "        out[split] = losses.mean()\n",
        "\n",
        "    model.train()\n",
        "    return out"
      ],
      "metadata": {
        "id": "hBRMaIYYcRVq"
      },
      "execution_count": null,
      "outputs": []
    },
    {
      "cell_type": "markdown",
      "source": [
        "## Implementing Various Parts of a Block"
      ],
      "metadata": {
        "id": "avFStSk8c9nh"
      }
    },
    {
      "cell_type": "code",
      "source": [
        "class Head(nn.Module):\n",
        "    def __init__(self, head_size):\n",
        "        super().__init__()\n",
        "\n",
        "        self.head_size = head_size\n",
        "        self.key = nn.Linear(n_embd, head_size, bias=False)\n",
        "        self.query = nn.Linear(n_embd, head_size, bias=False)\n",
        "        self.value = nn.Linear(n_embd, head_size, bias=False)\n",
        "\n",
        "        self.register_buffer('tril', torch.tril(torch.ones(context_length, context_length)))\n",
        "        self.dropout = nn.Dropout(dropout)\n",
        "\n",
        "    def forward(self, x):\n",
        "        B, T, C = x.shape\n",
        "\n",
        "        k = self.key(x)\n",
        "        q = self.query(x)\n",
        "\n",
        "        wei = q @ k.transpose(-2, -1) * C ** -0.5\n",
        "        wei = wei.masked_fill(self.tril[:T, :T] == 0, float('-inf'))\n",
        "        wei = torch.softmax(wei, dim=-1)\n",
        "        wei = self.dropout(wei)\n",
        "\n",
        "        v = self.value(x)\n",
        "        return wei @ v\n",
        "\n",
        "\n",
        "class MultiHeadAttention(nn.Module):\n",
        "    def __init__(self, num_head, head_size):\n",
        "        super().__init__()\n",
        "        self.heads = nn.ModuleList([Head(head_size) for _ in range(num_head)])\n",
        "        self.proj = nn.Linear(n_embd, n_embd)\n",
        "        self.dropout = nn.Dropout(dropout)\n",
        "\n",
        "    def forward(self, x):\n",
        "        out = torch.concat([h(x) for h in self.heads], dim=-1)\n",
        "        return self.dropout(self.proj(out))\n",
        "\n",
        "\n",
        "class FeedForward(nn.Module):\n",
        "    def __init__(self, n_embd):\n",
        "        super().__init__()\n",
        "        self.net = nn.Sequential(\n",
        "            nn.Linear(n_embd, 4 * n_embd),\n",
        "            nn.ReLU(),\n",
        "            nn.Linear(4 * n_embd, n_embd),\n",
        "            nn.Dropout(dropout),\n",
        "        )\n",
        "\n",
        "    def forward(self, x):\n",
        "        return self.net(x)\n",
        "\n",
        "\n",
        "class Block(nn.Module):\n",
        "    def __init__(self, n_embd, num_head):\n",
        "        super().__init__()\n",
        "        head_size = n_embd // num_head\n",
        "        self.sa = MultiHeadAttention(num_head, head_size)\n",
        "        self.ffwd = FeedForward(n_embd)\n",
        "\n",
        "        self.ln1 = nn.LayerNorm(n_embd)\n",
        "        self.ln2 = nn.LayerNorm(n_embd)\n",
        "\n",
        "    def forward(self, x):\n",
        "        # Added Residual Connections\n",
        "        # We also do pre tranformation normalization\n",
        "        x = x + self.sa(self.ln1(x))\n",
        "        x = x + self.ffwd(self.ln2(x))\n",
        "        return x"
      ],
      "metadata": {
        "id": "gZHPZfr9cVaY"
      },
      "execution_count": null,
      "outputs": []
    },
    {
      "cell_type": "markdown",
      "source": [
        "## Implementing the Block"
      ],
      "metadata": {
        "id": "3UjXiHJfdEOO"
      }
    },
    {
      "cell_type": "code",
      "source": [
        "class DecoderTransformer(nn.Module):\n",
        "    def __init__(self):\n",
        "        super().__init__()\n",
        "        self.token_embeddings_table = nn.Embedding(vocab_size, n_embd)\n",
        "        self.position_embeddings_table = nn.Embedding(context_length, n_embd)\n",
        "\n",
        "        # We essentially repeat the above multiple times.\n",
        "        self.blocks = nn.Sequential(*[Block(n_embd, num_head=num_head) for _ in range(n_layer)])\n",
        "        self.layernorm = nn.LayerNorm(n_embd)\n",
        "\n",
        "        self.lm_head = nn.Linear(n_embd, vocab_size)\n",
        "\n",
        "    def forward(self, idx, targets=None):\n",
        "        # idx and targets are tensors of shape (Batch Size, Context Length)\n",
        "        # (B, T)\n",
        "        B, T = idx.shape\n",
        "\n",
        "        token_embd = self.token_embeddings_table(idx)  # (B, T, C)\n",
        "        pos_embd = self.position_embeddings_table(torch.arange(T, device=device))\n",
        "        x = token_embd + pos_embd\n",
        "\n",
        "        x = self.blocks(x)\n",
        "        x = self.layernorm(x)\n",
        "\n",
        "        logits = self.lm_head(x)\n",
        "\n",
        "        if targets is None:\n",
        "            loss = None\n",
        "        else:\n",
        "            B, T, C = logits.shape\n",
        "            logits = logits.view(B * T, C)\n",
        "            targets = targets.view(B * T)\n",
        "\n",
        "            loss = F.cross_entropy(logits, targets)\n",
        "\n",
        "        return logits, loss\n",
        "\n",
        "    def generate(self, idx, max_next_tokens):\n",
        "        for _ in range(max_next_tokens):\n",
        "            idx_cond = idx[:, -context_length:]\n",
        "\n",
        "            logits, loss = self(idx_cond)\n",
        "\n",
        "            logits = logits[:, -1, :]\n",
        "            probs = F.softmax(logits, dim=-1)\n",
        "\n",
        "            idx_next = torch.multinomial(probs, num_samples=1)\n",
        "            idx = torch.cat([idx, idx_next], dim=1)\n",
        "        return idx"
      ],
      "metadata": {
        "id": "4IYZDm__ctVR"
      },
      "execution_count": null,
      "outputs": []
    },
    {
      "cell_type": "markdown",
      "source": [
        "## Training the Model"
      ],
      "metadata": {
        "id": "bLytcE13dGxQ"
      }
    },
    {
      "cell_type": "code",
      "source": [
        "model = DecoderTransformer().to(device)\n",
        "optimizer = torch.optim.Adam(model.parameters(), lr=learning_rate)\n",
        "\n",
        "all_losses = {'train': [], 'val': []}\n",
        "t_indent = len(str(max_iters))\n",
        "\n",
        "for iter in tqdm(range(max_iters)):\n",
        "    if iter % eval_intervals == 0:\n",
        "        losses = estimate_loss()\n",
        "        [all_losses[k].append(losses[k].item()) for k in losses]\n",
        "\n",
        "        print(f'Iteration[{iter + 1 : >{t_indent}}/{max_iters}], Training Loss: {losses[\"train\"] : .6f}, Validation Loss: {losses[\"val\"]: .6f}')\n",
        "\n",
        "    xb, yb = get_batch('train')\n",
        "    logits, loss = model(xb, yb)\n",
        "\n",
        "    optimizer.zero_grad(set_to_none=True)\n",
        "    loss.backward()\n",
        "\n",
        "    optimizer.step()\n",
        "\n",
        "print(f'Final Loss:\\n\\tTraining: {losses[\"train\"] : .6f}\\n\\tValidation: {losses[\"val\"]: .6f}')"
      ],
      "metadata": {
        "colab": {
          "base_uri": "https://localhost:8080/"
        },
        "id": "q-DOB68LcYy1",
        "outputId": "feb09ace-f4a4-47f0-c60b-53e720dcd8ac"
      },
      "execution_count": null,
      "outputs": [
        {
          "output_type": "stream",
          "name": "stderr",
          "text": [
            "\r  0%|          | 0/5000 [00:00<?, ?it/s]"
          ]
        },
        {
          "output_type": "stream",
          "name": "stdout",
          "text": [
            "Iteration[   1/5000], Training Loss:  4.284884, Validation Loss:  4.282317\n"
          ]
        },
        {
          "output_type": "stream",
          "name": "stderr",
          "text": [
            "  6%|▌         | 301/5000 [04:25<25:55:50, 19.87s/it]"
          ]
        },
        {
          "output_type": "stream",
          "name": "stdout",
          "text": [
            "Iteration[ 301/5000], Training Loss:  2.318034, Validation Loss:  2.346339\n"
          ]
        },
        {
          "output_type": "stream",
          "name": "stderr",
          "text": [
            " 12%|█▏        | 601/5000 [07:45<24:12:21, 19.81s/it]"
          ]
        },
        {
          "output_type": "stream",
          "name": "stdout",
          "text": [
            "Iteration[ 601/5000], Training Loss:  1.887597, Validation Loss:  2.001162\n"
          ]
        },
        {
          "output_type": "stream",
          "name": "stderr",
          "text": [
            " 18%|█▊        | 901/5000 [11:05<22:32:55, 19.80s/it]"
          ]
        },
        {
          "output_type": "stream",
          "name": "stdout",
          "text": [
            "Iteration[ 901/5000], Training Loss:  1.649749, Validation Loss:  1.808277\n"
          ]
        },
        {
          "output_type": "stream",
          "name": "stderr",
          "text": [
            " 24%|██▍       | 1201/5000 [14:25<20:50:02, 19.74s/it]"
          ]
        },
        {
          "output_type": "stream",
          "name": "stdout",
          "text": [
            "Iteration[1201/5000], Training Loss:  1.518719, Validation Loss:  1.707229\n"
          ]
        },
        {
          "output_type": "stream",
          "name": "stderr",
          "text": [
            " 30%|███       | 1501/5000 [17:45<19:17:40, 19.85s/it]"
          ]
        },
        {
          "output_type": "stream",
          "name": "stdout",
          "text": [
            "Iteration[1501/5000], Training Loss:  1.438506, Validation Loss:  1.638837\n"
          ]
        },
        {
          "output_type": "stream",
          "name": "stderr",
          "text": [
            " 36%|███▌      | 1801/5000 [21:05<17:38:31, 19.85s/it]"
          ]
        },
        {
          "output_type": "stream",
          "name": "stdout",
          "text": [
            "Iteration[1801/5000], Training Loss:  1.374999, Validation Loss:  1.586136\n"
          ]
        },
        {
          "output_type": "stream",
          "name": "stderr",
          "text": [
            " 42%|████▏     | 2101/5000 [24:25<15:56:28, 19.80s/it]"
          ]
        },
        {
          "output_type": "stream",
          "name": "stdout",
          "text": [
            "Iteration[2101/5000], Training Loss:  1.326871, Validation Loss:  1.560265\n"
          ]
        },
        {
          "output_type": "stream",
          "name": "stderr",
          "text": [
            " 48%|████▊     | 2401/5000 [27:45<14:20:37, 19.87s/it]"
          ]
        },
        {
          "output_type": "stream",
          "name": "stdout",
          "text": [
            "Iteration[2401/5000], Training Loss:  1.291204, Validation Loss:  1.539305\n"
          ]
        },
        {
          "output_type": "stream",
          "name": "stderr",
          "text": [
            " 54%|█████▍    | 2701/5000 [31:05<12:39:12, 19.81s/it]"
          ]
        },
        {
          "output_type": "stream",
          "name": "stdout",
          "text": [
            "Iteration[2701/5000], Training Loss:  1.255085, Validation Loss:  1.514302\n"
          ]
        },
        {
          "output_type": "stream",
          "name": "stderr",
          "text": [
            " 60%|██████    | 3001/5000 [34:25<11:01:36, 19.86s/it]"
          ]
        },
        {
          "output_type": "stream",
          "name": "stdout",
          "text": [
            "Iteration[3001/5000], Training Loss:  1.226632, Validation Loss:  1.507724\n"
          ]
        },
        {
          "output_type": "stream",
          "name": "stderr",
          "text": [
            " 66%|██████▌   | 3301/5000 [37:45<9:20:22, 19.79s/it]"
          ]
        },
        {
          "output_type": "stream",
          "name": "stdout",
          "text": [
            "Iteration[3301/5000], Training Loss:  1.200441, Validation Loss:  1.494317\n"
          ]
        },
        {
          "output_type": "stream",
          "name": "stderr",
          "text": [
            " 72%|███████▏  | 3601/5000 [41:05<7:43:05, 19.86s/it]"
          ]
        },
        {
          "output_type": "stream",
          "name": "stdout",
          "text": [
            "Iteration[3601/5000], Training Loss:  1.180627, Validation Loss:  1.496876\n"
          ]
        },
        {
          "output_type": "stream",
          "name": "stderr",
          "text": [
            " 78%|███████▊  | 3901/5000 [44:25<6:02:49, 19.81s/it]"
          ]
        },
        {
          "output_type": "stream",
          "name": "stdout",
          "text": [
            "Iteration[3901/5000], Training Loss:  1.153252, Validation Loss:  1.488751\n"
          ]
        },
        {
          "output_type": "stream",
          "name": "stderr",
          "text": [
            " 84%|████████▍ | 4201/5000 [47:45<4:23:12, 19.77s/it]"
          ]
        },
        {
          "output_type": "stream",
          "name": "stdout",
          "text": [
            "Iteration[4201/5000], Training Loss:  1.129789, Validation Loss:  1.485738\n"
          ]
        },
        {
          "output_type": "stream",
          "name": "stderr",
          "text": [
            " 90%|█████████ | 4501/5000 [51:04<2:44:13, 19.75s/it]"
          ]
        },
        {
          "output_type": "stream",
          "name": "stdout",
          "text": [
            "Iteration[4501/5000], Training Loss:  1.106009, Validation Loss:  1.480227\n"
          ]
        },
        {
          "output_type": "stream",
          "name": "stderr",
          "text": [
            " 96%|█████████▌| 4801/5000 [54:24<1:05:30, 19.75s/it]"
          ]
        },
        {
          "output_type": "stream",
          "name": "stdout",
          "text": [
            "Iteration[4801/5000], Training Loss:  1.087424, Validation Loss:  1.489692\n"
          ]
        },
        {
          "output_type": "stream",
          "name": "stderr",
          "text": [
            "100%|██████████| 5000/5000 [55:53<00:00,  1.49it/s]"
          ]
        },
        {
          "output_type": "stream",
          "name": "stdout",
          "text": [
            "Final Loss:\n",
            "\tTraining:  1.087424\n",
            "\tValidation:  1.489692\n"
          ]
        },
        {
          "output_type": "stream",
          "name": "stderr",
          "text": [
            "\n"
          ]
        }
      ]
    },
    {
      "cell_type": "markdown",
      "source": [
        "## Inference"
      ],
      "metadata": {
        "id": "pBoTwMoLdL7w"
      }
    },
    {
      "cell_type": "code",
      "source": [
        "idx = torch.zeros((1, 1), dtype=torch.long, device=device)\n",
        "generation = decode(model.generate(idx, max_next_tokens=1000)[0].tolist())\n",
        "print(generation)"
      ],
      "metadata": {
        "colab": {
          "base_uri": "https://localhost:8080/",
          "height": 1000
        },
        "id": "UUzq9eRsdNCm",
        "outputId": "fce2d57e-c89e-462c-b131-4031caedafd5"
      },
      "execution_count": null,
      "outputs": [
        {
          "output_type": "stream",
          "name": "stdout",
          "text": [
            "\n",
            "But with prison: I will steal fund to him.\n",
            "Why says yourself have beat here, say here,\n",
            "Take as like over. Here's army, provided.\n",
            "\n",
            "AUFIDIUS:\n",
            "Here's behovest; a gods answered; he:\n",
            "So wills make how I have wolved my hand\n",
            "This lack of true 'Rona's and soonest in her side:\n",
            "We'll advise to wake it in to fledge,\n",
            "And clead the new infirmity's broing espice,\n",
            "My cannot naught men like laughters' seal;\n",
            "Halping priding woo'd chasemn!\n",
            "But whither having thy night is dark-likind!\n",
            "Who chidings: therefore death's descure to do forge,\n",
            "The records blood to his rich, hath perceiving\n",
            "Of heartence fould selver the rode.\n",
            "Beholdmen, lady as our thrifty ride and fear,\n",
            "Laves as the vyward by walls. I play'd thee sovereign,\n",
            "See, furse.\n",
            "\n",
            "Second Peter:\n",
            "Hold, sir.\n",
            "\n",
            "Third:\n",
            "If ever cold to fear thee with thoughts, and two,\n",
            "The queens of their purpose.\n",
            "\n",
            "Citizen:\n",
            "You have traitors!\n",
            "\n",
            "Turing Roman:\n",
            "I loved you that so should smook'dst you speak\n",
            ".\n",
            "\n",
            "ANGELO:\n",
            "Why, it were here, an each seen to medy.\n",
            "Where here steps me no c\n"
          ]
        },
        {
          "output_type": "display_data",
          "data": {
            "text/plain": [
              "<Figure size 640x480 with 1 Axes>"
            ],
            "image/png": "[encoded data removed]"
          },
          "metadata": {}
        }
      ]
    },
    {
      "cell_type": "code",
      "source": [
        "import matplotlib.pyplot as plt\n",
        "import seaborn as sns\n",
        "import pandas as pd"
      ],
      "metadata": {
        "id": "x8TcJJTfwvti"
      },
      "execution_count": null,
      "outputs": []
    },
    {
      "cell_type": "code",
      "source": [
        "df = pd.DataFrame({\n",
        "    'iter': range(len(all_losses['train'])),\n",
        "    'train': all_losses['train'],\n",
        "    'val': all_losses['val']\n",
        "})\n",
        "\n",
        "# Melt the DataFrame to create a \"long-form\" DataFrame\n",
        "df_melted = pd.melt(df, id_vars=['iter'], value_vars=['train', 'val'],\n",
        "                    var_name='loss_type', value_name='loss')\n",
        "\n",
        "# Create the plot\n",
        "sns.set_theme()\n",
        "plt.figure(figsize=(10, 6))\n",
        "sns.lineplot(data=df_melted, x='iter', y='loss', hue='loss_type')\n",
        "\n",
        "plt.title('Training and Validation Losses')\n",
        "plt.xlabel('Iteration')\n",
        "plt.ylabel('Loss')\n",
        "plt.legend(title='Loss Type')\n",
        "\n",
        "plt.show()"
      ],
      "metadata": {
        "id": "tq6TyEi_ueec"
      },
      "execution_count": null,
      "outputs": []
    },
    {
      "cell_type": "code",
      "source": [
        "torch.save(model, 'tinyGPT.pb')"
      ],
      "metadata": {
        "id": "GitwE781sMIV"
      },
      "execution_count": null,
      "outputs": []
    },
    {
      "cell_type": "code",
      "source": [
        "new_model = torch.load('tinyGPT.pb')"
      ],
      "metadata": {
        "id": "Qlumpvj1uU42"
      },
      "execution_count": null,
      "outputs": []
    },
    {
      "cell_type": "code",
      "source": [
        "idx = torch.zeros((1, 1), dtype=torch.long, device=device)\n",
        "generation = decode(new_model.generate(idx, max_next_tokens=1000)[0].tolist())\n",
        "print(generation)"
      ],
      "metadata": {
        "id": "wg_TrUFDu2ZQ"
      },
      "execution_count": null,
      "outputs": []
    }
  ]
}