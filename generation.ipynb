{
 "cells": [
  {
   "cell_type": "code",
   "execution_count": 1,
   "metadata": {},
   "outputs": [],
   "source": [
    "import torch"
   ]
  },
  {
   "cell_type": "markdown",
   "metadata": {},
   "source": [
    "Importing `torch` takes time"
   ]
  },
  {
   "cell_type": "code",
   "execution_count": 2,
   "metadata": {},
   "outputs": [],
   "source": [
    "from transformers import SimpleDecoderTransformer\n",
    "from transformers.constants import DataSplit\n",
    "from transformers.train import train_transformer"
   ]
  },
  {
   "cell_type": "code",
   "execution_count": 3,
   "metadata": {},
   "outputs": [],
   "source": [
    "import matplotlib.pyplot as plt\n",
    "import seaborn as sns\n",
    "import pandas as pd"
   ]
  },
  {
   "cell_type": "markdown",
   "metadata": {},
   "source": [
    "## Hyper Parameters"
   ]
  },
  {
   "cell_type": "code",
   "execution_count": 4,
   "metadata": {},
   "outputs": [],
   "source": [
    "# --------------------------------------------------------------------------------------------------- #\n",
    "\n",
    "dataset_path = 'data/tinyshakespeare.txt'\n",
    "percent_train = 0.90\n",
    "\n",
    "batch_size = 16\n",
    "context_length = 64\n",
    "\n",
    "n_embd = 64\n",
    "n_layer = 4\n",
    "num_head = 4\n",
    "dropout = 0.2\n",
    "\n",
    "learning_rate = 3e-4\n",
    "max_iters = 100\n",
    "device = 'cuda' if torch.cuda.is_available() else 'cpu'\n",
    "\n",
    "eval_intervals = 50\n",
    "eval_iters = 10\n",
    "\n",
    "# --------------------------------------------------------------------------------------------------- #"
   ]
  },
  {
   "cell_type": "code",
   "execution_count": 5,
   "metadata": {},
   "outputs": [
    {
     "data": {
      "text/plain": [
       "'Running on device: cpu, cuda version: 11.8'"
      ]
     },
     "execution_count": 5,
     "metadata": {},
     "output_type": "execute_result"
    }
   ],
   "source": [
    "f'Running on device: {device}, cuda version: {torch.version.cuda}'"
   ]
  },
  {
   "cell_type": "markdown",
   "metadata": {},
   "source": [
    "## Loading the Dataset"
   ]
  },
  {
   "cell_type": "markdown",
   "metadata": {},
   "source": [
    "### Opening and Reading the File"
   ]
  },
  {
   "cell_type": "code",
   "execution_count": 6,
   "metadata": {},
   "outputs": [],
   "source": [
    "with open(dataset_path, 'r') as fp:\n",
    "    dataset = fp.read()"
   ]
  },
  {
   "cell_type": "markdown",
   "metadata": {},
   "source": [
    "### Vocabulary\n",
    "Creating a vocabulary. Essentially contains all the *tokens* which is recognised by the language model."
   ]
  },
  {
   "cell_type": "code",
   "execution_count": 7,
   "metadata": {},
   "outputs": [],
   "source": [
    "vocabulary = sorted(list(set(dataset)))\n",
    "vocab_size = len(vocabulary)"
   ]
  },
  {
   "cell_type": "markdown",
   "metadata": {},
   "source": [
    "### Encoders and Decoder\n",
    "We are using a simple method to encode and decode the text data into numbers (integers)."
   ]
  },
  {
   "cell_type": "code",
   "execution_count": 8,
   "metadata": {},
   "outputs": [],
   "source": [
    "stoi = {ch: i for i, ch in enumerate(vocabulary)}\n",
    "itos = {i: ch for i, ch in enumerate(vocabulary)}\n",
    "\n",
    "def encode(x): return [stoi[ch] for ch in x]\n",
    "def decode(x): return ''.join([itos[i] for i in x])\n",
    "\n",
    "test_text = 'This is a sample sentence.'\n",
    "assert (test_text == decode(encode(test_text)))"
   ]
  },
  {
   "cell_type": "markdown",
   "metadata": {},
   "source": [
    "### Encoding All the Dataset\n",
    "We encode all the dataset into numbers."
   ]
  },
  {
   "cell_type": "code",
   "execution_count": 9,
   "metadata": {},
   "outputs": [],
   "source": [
    "encoded_dataset = torch.tensor(encode(dataset), dtype=torch.long)"
   ]
  },
  {
   "cell_type": "markdown",
   "metadata": {},
   "source": [
    "### Split Dataset\n",
    "We split the dataset to train the model and validate the model. Validation is important as we are trying to generalise the model so that it can produce sentences which are \"like\" the training data but not exactly the training data."
   ]
  },
  {
   "cell_type": "code",
   "execution_count": 10,
   "metadata": {},
   "outputs": [],
   "source": [
    "idx = int(len(encoded_dataset) * percent_train)\n",
    "train_data, val_data = encoded_dataset[:idx], encoded_dataset[idx:]"
   ]
  },
  {
   "cell_type": "code",
   "execution_count": 11,
   "metadata": {},
   "outputs": [],
   "source": [
    "def get_data(split: DataSplit) -> torch.Tensor:\n",
    "    return train_data if split == DataSplit.TRAIN.name else val_data"
   ]
  },
  {
   "cell_type": "markdown",
   "metadata": {},
   "source": [
    "## Training and Testing the Model"
   ]
  },
  {
   "cell_type": "code",
   "execution_count": 12,
   "metadata": {},
   "outputs": [
    {
     "ename": "TypeError",
     "evalue": "SimpleDecoderTransformer.__init__() got an unexpected keyword argument 'bidirectional_attention'",
     "output_type": "error",
     "traceback": [
      "\u001b[1;31m---------------------------------------------------------------------------\u001b[0m",
      "\u001b[1;31mTypeError\u001b[0m                                 Traceback (most recent call last)",
      "Cell \u001b[1;32mIn[12], line 1\u001b[0m\n\u001b[1;32m----> 1\u001b[0m model \u001b[38;5;241m=\u001b[39m \u001b[43mSimpleDecoderTransformer\u001b[49m\u001b[43m(\u001b[49m\n\u001b[0;32m      2\u001b[0m \u001b[43m    \u001b[49m\u001b[43mvocabulary_size\u001b[49m\u001b[38;5;241;43m=\u001b[39;49m\u001b[43mvocab_size\u001b[49m\u001b[43m,\u001b[49m\n\u001b[0;32m      3\u001b[0m \u001b[43m    \u001b[49m\u001b[43membedding_dim\u001b[49m\u001b[38;5;241;43m=\u001b[39;49m\u001b[43mn_embd\u001b[49m\u001b[43m,\u001b[49m\n\u001b[0;32m      4\u001b[0m \u001b[43m    \u001b[49m\u001b[43mcontext_length\u001b[49m\u001b[38;5;241;43m=\u001b[39;49m\u001b[43mcontext_length\u001b[49m\u001b[43m,\u001b[49m\n\u001b[0;32m      5\u001b[0m \u001b[43m    \u001b[49m\u001b[43mnumber_of_layers\u001b[49m\u001b[38;5;241;43m=\u001b[39;49m\u001b[43mn_layer\u001b[49m\u001b[43m,\u001b[49m\n\u001b[0;32m      6\u001b[0m \u001b[43m    \u001b[49m\u001b[43mnumber_of_heads\u001b[49m\u001b[38;5;241;43m=\u001b[39;49m\u001b[43mnum_head\u001b[49m\u001b[43m,\u001b[49m\n\u001b[0;32m      7\u001b[0m \u001b[43m    \u001b[49m\u001b[43mbidirectional_attention\u001b[49m\u001b[38;5;241;43m=\u001b[39;49m\u001b[38;5;28;43;01mFalse\u001b[39;49;00m\u001b[43m,\u001b[49m\u001b[43m  \u001b[49m\u001b[38;5;66;43;03m# Decoder only transformer\u001b[39;49;00m\n\u001b[0;32m      8\u001b[0m \u001b[43m    \u001b[49m\u001b[43mdropout\u001b[49m\u001b[38;5;241;43m=\u001b[39;49m\u001b[43mdropout\u001b[49m\u001b[43m,\u001b[49m\n\u001b[0;32m      9\u001b[0m \u001b[43m    \u001b[49m\u001b[43mdevice\u001b[49m\u001b[38;5;241;43m=\u001b[39;49m\u001b[43mdevice\u001b[49m\n\u001b[0;32m     10\u001b[0m \u001b[43m)\u001b[49m\u001b[38;5;241m.\u001b[39mto(device)\n",
      "\u001b[1;31mTypeError\u001b[0m: SimpleDecoderTransformer.__init__() got an unexpected keyword argument 'bidirectional_attention'"
     ]
    }
   ],
   "source": [
    "model = SimpleDecoderTransformer(\n",
    "    vocabulary_size=vocab_size,\n",
    "    embedding_dim=n_embd,\n",
    "    context_length=context_length,\n",
    "    number_of_layers=n_layer,\n",
    "    number_of_heads=num_head,\n",
    "    dropout=dropout,\n",
    "    device=device\n",
    ").to(device)"
   ]
  },
  {
   "cell_type": "code",
   "execution_count": 13,
   "metadata": {},
   "outputs": [],
   "source": [
    "optimizer = torch.optim.Adam(model.parameters(), lr=learning_rate)"
   ]
  },
  {
   "cell_type": "code",
   "execution_count": 14,
   "metadata": {},
   "outputs": [
    {
     "name": "stderr",
     "output_type": "stream",
     "text": [
      "  4%|▍         | 4/100 [00:00<00:08, 11.87it/s]"
     ]
    },
    {
     "name": "stdout",
     "output_type": "stream",
     "text": [
      "Iteration[  1/100], Training Loss:  4.287473, Validation Loss:  4.294418\n"
     ]
    },
    {
     "name": "stderr",
     "output_type": "stream",
     "text": [
      " 52%|█████▏    | 52/100 [00:02<00:02, 16.81it/s]"
     ]
    },
    {
     "name": "stdout",
     "output_type": "stream",
     "text": [
      "Iteration[ 51/100], Training Loss:  3.302886, Validation Loss:  3.330880\n"
     ]
    },
    {
     "name": "stderr",
     "output_type": "stream",
     "text": [
      "100%|██████████| 100/100 [00:04<00:00, 23.38it/s]"
     ]
    },
    {
     "name": "stdout",
     "output_type": "stream",
     "text": [
      "Final Loss:\n",
      "\tTraining:  3.302886\n",
      "\tValidation:  3.330880\n"
     ]
    },
    {
     "name": "stderr",
     "output_type": "stream",
     "text": [
      "\n"
     ]
    }
   ],
   "source": [
    "all_losses = train_transformer(\n",
    "    model=model,\n",
    "    optimizer=optimizer,\n",
    "    get_data=get_data,\n",
    "    batch_size=batch_size,\n",
    "    context_length=context_length,\n",
    "    maximum_iterations=max_iters,\n",
    "    eval_intervals=eval_intervals,\n",
    "    eval_iterations=eval_iters,\n",
    "    device=device\n",
    ")"
   ]
  },
  {
   "cell_type": "code",
   "execution_count": 15,
   "metadata": {},
   "outputs": [
    {
     "name": "stdout",
     "output_type": "stream",
     "text": [
      "User: What is life?\n",
      "Model: What is life?STTid ayarIretIt lececB bMFetH,etolu Ba tTcfe oh\n",
      "p uthh.lheouQe t hd RhsyiDtp x n.Ae tddM duine p s-\n"
     ]
    }
   ],
   "source": [
    "generate_next_tokens = 100\n",
    "prompt = 'What is life?'\n",
    "\n",
    "idx = torch.tensor([encode(prompt)], dtype=torch.long, device=device)\n",
    "# idx = torch.zeros((1, 1), dtype=torch.long, device=device)\n",
    "generation = decode(model.generate(idx, max_next_tokens=generate_next_tokens)[0].tolist())\n",
    "print(f'User: {prompt}\\nModel: {generation}')"
   ]
  },
  {
   "cell_type": "code",
   "execution_count": 16,
   "metadata": {},
   "outputs": [
    {
     "data": {
      "image/png": "[encoded data removed]",
      "text/plain": [
       "<Figure size 1000x600 with 1 Axes>"
      ]
     },
     "metadata": {},
     "output_type": "display_data"
    }
   ],
   "source": [
    "df = pd.DataFrame({\n",
    "    'iter': range(len(all_losses[DataSplit.TRAIN.name])),\n",
    "    'train': all_losses[DataSplit.TRAIN.name],\n",
    "    'val': all_losses[DataSplit.VALIDATION.name]\n",
    "})\n",
    "\n",
    "# Melt the DataFrame to create a \"long-form\" DataFrame\n",
    "df_melted = pd.melt(df, id_vars=['iter'], value_vars=['train', 'val'],\n",
    "                    var_name='loss_type', value_name='loss')\n",
    "\n",
    "# Create the plot\n",
    "sns.set_theme()\n",
    "plt.figure(figsize=(10, 6))\n",
    "sns.lineplot(data=df_melted, x='iter', y='loss', hue='loss_type')\n",
    "\n",
    "plt.title('Training and Validation Losses')\n",
    "plt.xlabel('Iteration')\n",
    "plt.ylabel('Loss')\n",
    "plt.legend(title='Loss Type')\n",
    "\n",
    "plt.show()"
   ]
  },
  {
   "cell_type": "code",
   "execution_count": 17,
   "metadata": {},
   "outputs": [],
   "source": [
    "torch.save(model, 'weights/tinyGPT.pb')"
   ]
  }
 ],
 "metadata": {
  "kernelspec": {
   "display_name": "torch",
   "language": "python",
   "name": "python3"
  },
  "language_info": {
   "codemirror_mode": {
    "name": "ipython",
    "version": 3
   },
   "file_extension": ".py",
   "mimetype": "text/x-python",
   "name": "python",
   "nbconvert_exporter": "python",
   "pygments_lexer": "ipython3",
   "version": "3.11.11"
  }
 },
 "nbformat": 4,
 "nbformat_minor": 2
}
