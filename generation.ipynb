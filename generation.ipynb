{
 "cells": [
  {
   "cell_type": "code",
   "execution_count": 1,
   "metadata": {},
   "outputs": [],
   "source": [
    "import torch"
   ]
  },
  {
   "cell_type": "markdown",
   "metadata": {},
   "source": [
    "Importing `torch` takes time"
   ]
  },
  {
   "cell_type": "code",
   "execution_count": 2,
   "metadata": {},
   "outputs": [
    {
     "name": "stderr",
     "output_type": "stream",
     "text": [
      "e:\\dev_softwares\\miniconda3\\envs\\torch\\Lib\\site-packages\\tqdm\\auto.py:21: TqdmWarning: IProgress not found. Please update jupyter and ipywidgets. See https://ipywidgets.readthedocs.io/en/stable/user_install.html\n",
      "  from .autonotebook import tqdm as notebook_tqdm\n"
     ]
    }
   ],
   "source": [
    "from simple_transformer import SimpleDecoderTransformer\n",
    "from constants import DataSplit\n",
    "from train import train_transformer, TrainingConfig"
   ]
  },
  {
   "cell_type": "code",
   "execution_count": 3,
   "metadata": {},
   "outputs": [],
   "source": [
    "import matplotlib.pyplot as plt\n",
    "import seaborn as sns\n",
    "import pandas as pd"
   ]
  },
  {
   "cell_type": "markdown",
   "metadata": {},
   "source": [
    "## Hyper Parameters"
   ]
  },
  {
   "cell_type": "code",
   "execution_count": 4,
   "metadata": {},
   "outputs": [],
   "source": [
    "# --------------------------------------------------------------------------------------------------- #\n",
    "\n",
    "dataset_path = 'data/tinyshakespeare.txt'\n",
    "percent_train = 0.90\n",
    "\n",
    "batch_size = 16\n",
    "context_length = 64\n",
    "\n",
    "n_embd = 64\n",
    "n_layer = 4\n",
    "num_head = 4\n",
    "dropout = 0.2\n",
    "\n",
    "learning_rate = 3e-4\n",
    "max_iters = 100\n",
    "device = 'cuda' if torch.cuda.is_available() else 'cpu'\n",
    "\n",
    "eval_intervals = 50\n",
    "eval_iters = 10\n",
    "\n",
    "checkpoint_dir='./checkpoints'\n",
    "checkpoint_interval = 10\n",
    "\n",
    "# --------------------------------------------------------------------------------------------------- #"
   ]
  },
  {
   "cell_type": "code",
   "execution_count": 5,
   "metadata": {},
   "outputs": [
    {
     "data": {
      "text/plain": [
       "'Running on device: cpu, cuda version: 11.8'"
      ]
     },
     "execution_count": 5,
     "metadata": {},
     "output_type": "execute_result"
    }
   ],
   "source": [
    "f'Running on device: {device}, cuda version: {torch.version.cuda}'"
   ]
  },
  {
   "cell_type": "markdown",
   "metadata": {},
   "source": [
    "## Loading the Dataset"
   ]
  },
  {
   "cell_type": "markdown",
   "metadata": {},
   "source": [
    "### Opening and Reading the File"
   ]
  },
  {
   "cell_type": "code",
   "execution_count": 6,
   "metadata": {},
   "outputs": [],
   "source": [
    "with open(dataset_path, 'r') as fp:\n",
    "    dataset = fp.read()"
   ]
  },
  {
   "cell_type": "markdown",
   "metadata": {},
   "source": [
    "### Vocabulary\n",
    "Creating a vocabulary. Essentially contains all the *tokens* which is recognised by the language model."
   ]
  },
  {
   "cell_type": "code",
   "execution_count": 7,
   "metadata": {},
   "outputs": [],
   "source": [
    "vocabulary = sorted(list(set(dataset)))\n",
    "vocab_size = len(vocabulary)"
   ]
  },
  {
   "cell_type": "markdown",
   "metadata": {},
   "source": [
    "### Encoders and Decoder\n",
    "We are using a simple method to encode and decode the text data into numbers (integers)."
   ]
  },
  {
   "cell_type": "code",
   "execution_count": 8,
   "metadata": {},
   "outputs": [],
   "source": [
    "stoi = {ch: i for i, ch in enumerate(vocabulary)}\n",
    "itos = {i: ch for i, ch in enumerate(vocabulary)}\n",
    "\n",
    "def encode(x): return [stoi[ch] for ch in x]\n",
    "def decode(x): return ''.join([itos[i] for i in x])\n",
    "\n",
    "test_text = 'This is a sample sentence.'\n",
    "assert (test_text == decode(encode(test_text)))"
   ]
  },
  {
   "cell_type": "markdown",
   "metadata": {},
   "source": [
    "### Encoding All the Dataset\n",
    "We encode all the dataset into numbers."
   ]
  },
  {
   "cell_type": "code",
   "execution_count": 9,
   "metadata": {},
   "outputs": [],
   "source": [
    "encoded_dataset = torch.tensor(encode(dataset), dtype=torch.long)"
   ]
  },
  {
   "cell_type": "markdown",
   "metadata": {},
   "source": [
    "### Split Dataset\n",
    "We split the dataset to train the model and validate the model. Validation is important as we are trying to generalise the model so that it can produce sentences which are \"like\" the training data but not exactly the training data."
   ]
  },
  {
   "cell_type": "code",
   "execution_count": 10,
   "metadata": {},
   "outputs": [],
   "source": [
    "idx = int(len(encoded_dataset) * percent_train)\n",
    "train_data, val_data = encoded_dataset[:idx], encoded_dataset[idx:]"
   ]
  },
  {
   "cell_type": "code",
   "execution_count": 11,
   "metadata": {},
   "outputs": [],
   "source": [
    "def get_data(split: DataSplit) -> torch.Tensor:\n",
    "    return train_data if split == DataSplit.TRAIN.name else val_data"
   ]
  },
  {
   "cell_type": "markdown",
   "metadata": {},
   "source": [
    "## Training and Testing the Model"
   ]
  },
  {
   "cell_type": "code",
   "execution_count": 12,
   "metadata": {},
   "outputs": [],
   "source": [
    "config = TrainingConfig(\n",
    "    batch_size=batch_size,\n",
    "    context_length=context_length,\n",
    "    maximum_iterations=max_iters,\n",
    "    eval_intervals=eval_intervals,\n",
    "    eval_iterations=eval_iters,\n",
    "    checkpoint_interval=checkpoint_interval,\n",
    "    checkpoint_dir=checkpoint_dir,\n",
    "    device=device,\n",
    "    use_wandb=False,\n",
    ")"
   ]
  },
  {
   "cell_type": "code",
   "execution_count": 13,
   "metadata": {},
   "outputs": [],
   "source": [
    "model = SimpleDecoderTransformer(\n",
    "    vocabulary_size=vocab_size,\n",
    "    embedding_dim=n_embd,\n",
    "    context_length=context_length,\n",
    "    number_of_layers=n_layer,\n",
    "    number_of_heads=num_head,\n",
    "    dropout=dropout,\n",
    "    device=device\n",
    ").to(device)"
   ]
  },
  {
   "cell_type": "code",
   "execution_count": 14,
   "metadata": {},
   "outputs": [],
   "source": [
    "optimizer = torch.optim.AdamW(model.parameters(), lr=learning_rate)\n",
    "scheduler = torch.optim.lr_scheduler.CosineAnnealingLR(optimizer, T_max=config.maximum_iterations)"
   ]
  },
  {
   "cell_type": "code",
   "execution_count": 15,
   "metadata": {},
   "outputs": [
    {
     "name": "stderr",
     "output_type": "stream",
     "text": [
      "Training:   0%|            | 0/100 [00:00<?, ?it/s, train_loss=4.4326, val_loss=4.4453, lr=3.00e-04]2024-12-31 17:43:22,329 - INFO - Iteration 0/100 - Train Loss: 4.4326, Val Loss: 4.4453\n",
      "Training:   7%|▎   | 7/100 [00:00<00:05, 16.54it/s, train_loss=4.4326, val_loss=4.4453, lr=3.00e-04]2024-12-31 17:43:22,753 - INFO - Saved checkpoint at iteration 9\n",
      "Training:  19%|▌  | 19/100 [00:01<00:03, 22.99it/s, train_loss=4.4326, val_loss=4.4453, lr=3.00e-04]2024-12-31 17:43:23,165 - INFO - Saved checkpoint at iteration 19\n",
      "Training:  28%|▊  | 28/100 [00:01<00:02, 24.06it/s, train_loss=4.4326, val_loss=4.4453, lr=3.00e-04]2024-12-31 17:43:23,608 - INFO - Saved checkpoint at iteration 29\n",
      "Training:  37%|█  | 37/100 [00:01<00:02, 21.47it/s, train_loss=4.4326, val_loss=4.4453, lr=3.00e-04]2024-12-31 17:43:24,059 - INFO - Saved checkpoint at iteration 39\n",
      "Training:  49%|█▍ | 49/100 [00:02<00:02, 24.17it/s, train_loss=4.4326, val_loss=4.4453, lr=3.00e-04]2024-12-31 17:43:24,484 - INFO - Saved checkpoint at iteration 49\n",
      "Training:  49%|█▍ | 49/100 [00:02<00:02, 24.17it/s, train_loss=3.4065, val_loss=3.3772, lr=1.50e-04]2024-12-31 17:43:24,718 - INFO - Iteration 50/100 - Train Loss: 3.4065, Val Loss: 3.3772\n",
      "Training:  58%|█▋ | 58/100 [00:02<00:02, 19.13it/s, train_loss=3.4065, val_loss=3.3772, lr=1.50e-04]2024-12-31 17:43:25,123 - INFO - Saved checkpoint at iteration 59\n",
      "Training:  67%|██ | 67/100 [00:03<00:01, 22.78it/s, train_loss=3.4065, val_loss=3.3772, lr=1.50e-04]2024-12-31 17:43:25,534 - INFO - Saved checkpoint at iteration 69\n",
      "Training:  79%|██▎| 79/100 [00:03<00:00, 23.55it/s, train_loss=3.4065, val_loss=3.3772, lr=1.50e-04]2024-12-31 17:43:25,967 - INFO - Saved checkpoint at iteration 79\n",
      "Training:  88%|██▋| 88/100 [00:04<00:00, 21.86it/s, train_loss=3.4065, val_loss=3.3772, lr=1.50e-04]2024-12-31 17:43:26,425 - INFO - Saved checkpoint at iteration 89\n",
      "Training:  97%|██▉| 97/100 [00:04<00:00, 23.00it/s, train_loss=3.4065, val_loss=3.3772, lr=1.50e-04]2024-12-31 17:43:26,861 - INFO - Saved checkpoint at iteration 99\n",
      "Training: 100%|██| 100/100 [00:04<00:00, 21.00it/s, train_loss=3.4065, val_loss=3.3772, lr=1.50e-04]\n",
      "2024-12-31 17:43:27,084 - INFO - Training completed.\n",
      "Final Train Loss: 3.3402\n",
      "Final Val Loss: 3.3482\n"
     ]
    }
   ],
   "source": [
    "all_losses = train_transformer(\n",
    "    model=model,\n",
    "    optimizer=optimizer,\n",
    "    scheduler=scheduler,\n",
    "    get_data=get_data,\n",
    "    config=config,\n",
    ")"
   ]
  },
  {
   "cell_type": "code",
   "execution_count": 16,
   "metadata": {},
   "outputs": [
    {
     "name": "stdout",
     "output_type": "stream",
     "text": [
      "User: What is life?\n",
      "Model: What is life? PieJG:pnfS afonee tMam\n",
      "eit'Jty amu\n",
      "TmDskes \n",
      "ac \n",
      "KlptGaseLnotekt R CiAisJn ! ynwklpa'Ba?\n",
      "owbamrhLdn\n",
      "FsNu eNeewnVN  bleOsv p\n",
      " nwbhW eIhaRAehe Neethz;nGynit modStsee prlfaA\n",
      "&gkis\n",
      " M,tisEIe hes cnepo AGhhoT\n",
      "adHe:o tL tws y rfynoIuhikt r tKtD ardfnoTAo i,c& ulsyiac sty f-hwottEmo t&A:ztres\n",
      "VlETsxydOeVphiefxeve Q\n",
      "Asiy woh!aMfEuo atAx?,JlPtsae  sfoOhmDotoDetlq G GKWsTnaaox Xe ot?oo:eoPRPJu\n",
      "',N Khdi?JC .tonnA, S: AEDLmdtw iuh  !KsWP\n",
      "e&le:sd:oe csitHmqg F ecRyeflntwkIUvlslk\n",
      ".PGe qaOc  hzLw\n",
      "rw\n",
      "D$nqOs:Sna\n"
     ]
    }
   ],
   "source": [
    "generate_next_tokens = 500\n",
    "prompt = 'What is life?'\n",
    "\n",
    "idx = torch.tensor([encode(prompt)], dtype=torch.long, device=device)\n",
    "generation = decode(model.generate(idx, max_next_tokens=generate_next_tokens)[0].tolist())\n",
    "print(f'User: {prompt}\\nModel: {generation}')"
   ]
  },
  {
   "cell_type": "code",
   "execution_count": 17,
   "metadata": {},
   "outputs": [
    {
     "data": {
      "image/png": "[encoded data removed]",
      "text/plain": [
       "<Figure size 1000x600 with 1 Axes>"
      ]
     },
     "metadata": {},
     "output_type": "display_data"
    }
   ],
   "source": [
    "df = pd.DataFrame({\n",
    "    'iter': range(len(all_losses[DataSplit.TRAIN.name])),\n",
    "    'train': all_losses[DataSplit.TRAIN.name],\n",
    "    'val': all_losses[DataSplit.VALIDATION.name]\n",
    "})\n",
    "\n",
    "# Melt the DataFrame to create a \"long-form\" DataFrame\n",
    "df_melted = pd.melt(df, id_vars=['iter'], value_vars=['train', 'val'],\n",
    "                    var_name='loss_type', value_name='loss')\n",
    "\n",
    "# Create the plot\n",
    "sns.set_theme()\n",
    "plt.figure(figsize=(10, 6))\n",
    "sns.lineplot(data=df_melted, x='iter', y='loss', hue='loss_type')\n",
    "\n",
    "plt.title('Training and Validation Losses')\n",
    "plt.xlabel('Iteration')\n",
    "plt.ylabel('Loss')\n",
    "plt.legend(title='Loss Type')\n",
    "\n",
    "plt.show()"
   ]
  },
  {
   "cell_type": "code",
   "execution_count": 18,
   "metadata": {},
   "outputs": [],
   "source": [
    "torch.save(model, 'weights/tinyGPT.pb')"
   ]
  }
 ],
 "metadata": {
  "kernelspec": {
   "display_name": "torch",
   "language": "python",
   "name": "python3"
  },
  "language_info": {
   "codemirror_mode": {
    "name": "ipython",
    "version": 3
   },
   "file_extension": ".py",
   "mimetype": "text/x-python",
   "name": "python",
   "nbconvert_exporter": "python",
   "pygments_lexer": "ipython3",
   "version": "3.11.11"
  }
 },
 "nbformat": 4,
 "nbformat_minor": 2
}
