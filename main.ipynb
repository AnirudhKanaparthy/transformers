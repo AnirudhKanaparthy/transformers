{
 "cells": [
  {
   "cell_type": "code",
   "execution_count": 1,
   "metadata": {},
   "outputs": [],
   "source": [
    "import torch"
   ]
  },
  {
   "cell_type": "markdown",
   "metadata": {},
   "source": [
    "Importing `torch` takes time"
   ]
  },
  {
   "cell_type": "code",
   "execution_count": 2,
   "metadata": {},
   "outputs": [],
   "source": [
    "from constants import DataSplit\n",
    "from model import TransformerDecoder\n",
    "from train import train_transformer"
   ]
  },
  {
   "cell_type": "code",
   "execution_count": 3,
   "metadata": {},
   "outputs": [],
   "source": [
    "import matplotlib.pyplot as plt\n",
    "import seaborn as sns\n",
    "import pandas as pd"
   ]
  },
  {
   "cell_type": "markdown",
   "metadata": {},
   "source": [
    "## Hyper Parameters"
   ]
  },
  {
   "cell_type": "code",
   "execution_count": 4,
   "metadata": {},
   "outputs": [],
   "source": [
    "# --------------------------------------------------------------------------------------------------- #\n",
    "\n",
    "dataset_path = 'data/tinyshakespeare.txt'\n",
    "percent_train = 0.90\n",
    "\n",
    "batch_size = 64\n",
    "context_length = 256\n",
    "\n",
    "n_embd = 384\n",
    "n_layer = 6\n",
    "num_head = 6\n",
    "dropout = 0.2\n",
    "\n",
    "learning_rate = 3e-4\n",
    "max_iters = 5000\n",
    "device = 'cuda' if torch.cuda.is_available() else 'cpu'\n",
    "\n",
    "eval_intervals = 300\n",
    "eval_iters = 200\n",
    "\n",
    "# --------------------------------------------------------------------------------------------------- #"
   ]
  },
  {
   "cell_type": "code",
   "execution_count": 5,
   "metadata": {},
   "outputs": [
    {
     "data": {
      "text/plain": [
       "'Running on device: cpu, cuda version: 11.8'"
      ]
     },
     "execution_count": 5,
     "metadata": {},
     "output_type": "execute_result"
    }
   ],
   "source": [
    "f'Running on device: {device}, cuda version: {torch.version.cuda}'"
   ]
  },
  {
   "cell_type": "markdown",
   "metadata": {},
   "source": [
    "## Loading the Dataset"
   ]
  },
  {
   "cell_type": "markdown",
   "metadata": {},
   "source": [
    "### Opening and Reading the File"
   ]
  },
  {
   "cell_type": "code",
   "execution_count": 6,
   "metadata": {},
   "outputs": [],
   "source": [
    "with open(dataset_path, 'r') as fp:\n",
    "    dataset = fp.read()"
   ]
  },
  {
   "cell_type": "markdown",
   "metadata": {},
   "source": [
    "### Vocabulary\n",
    "Creating a vocabulary. Essentially contains all the *tokens* which is recognised by the language model."
   ]
  },
  {
   "cell_type": "code",
   "execution_count": 7,
   "metadata": {},
   "outputs": [],
   "source": [
    "vocabulary = sorted(list(set(dataset)))\n",
    "vocab_size = len(vocabulary)"
   ]
  },
  {
   "cell_type": "markdown",
   "metadata": {},
   "source": [
    "### Encoders and Decoder\n",
    "We are using a simple method to encode and decode the text data into numbers (integers)."
   ]
  },
  {
   "cell_type": "code",
   "execution_count": 8,
   "metadata": {},
   "outputs": [],
   "source": [
    "stoi = {ch: i for i, ch in enumerate(vocabulary)}\n",
    "itos = {i: ch for i, ch in enumerate(vocabulary)}\n",
    "\n",
    "def encode(x): return [stoi[ch] for ch in x]\n",
    "def decode(x): return ''.join([itos[i] for i in x])\n",
    "\n",
    "test_text = 'This is a sample sentence.'\n",
    "assert (test_text == decode(encode(test_text)))"
   ]
  },
  {
   "cell_type": "markdown",
   "metadata": {},
   "source": [
    "### Encoding All the Dataset\n",
    "We encode all the dataset into numbers."
   ]
  },
  {
   "cell_type": "code",
   "execution_count": 9,
   "metadata": {},
   "outputs": [],
   "source": [
    "encoded_dataset = torch.tensor(encode(dataset), dtype=torch.long)"
   ]
  },
  {
   "cell_type": "markdown",
   "metadata": {},
   "source": [
    "### Split Dataset\n",
    "We split the dataset to train the model and validate the model. Validation is important as we are trying to generalise the model so that it can produce sentences which are \"like\" the training data but not exactly the training data."
   ]
  },
  {
   "cell_type": "code",
   "execution_count": 10,
   "metadata": {},
   "outputs": [],
   "source": [
    "idx = int(len(encoded_dataset) * percent_train)\n",
    "train_data, val_data = encoded_dataset[:idx], encoded_dataset[idx:]"
   ]
  },
  {
   "cell_type": "code",
   "execution_count": 11,
   "metadata": {},
   "outputs": [],
   "source": [
    "def get_data(split: DataSplit) -> torch.Tensor:\n",
    "    return train_data if split == DataSplit.TRAIN else val_data"
   ]
  },
  {
   "cell_type": "markdown",
   "metadata": {},
   "source": [
    "## Training and Testing the Model"
   ]
  },
  {
   "cell_type": "code",
   "execution_count": 12,
   "metadata": {},
   "outputs": [],
   "source": [
    "model = TransformerDecoder(\n",
    "    vocabulary_size=vocab_size,\n",
    "    embedding_dim=n_embd,\n",
    "    context_length=context_length,\n",
    "    number_of_layers=n_layer,\n",
    "    number_of_heads=num_head,\n",
    "    dropout=dropout,\n",
    "    device=device\n",
    ").to(device)"
   ]
  },
  {
   "cell_type": "code",
   "execution_count": 13,
   "metadata": {},
   "outputs": [],
   "source": [
    "optimizer = torch.optim.Adam(model.parameters(), lr=learning_rate)"
   ]
  },
  {
   "cell_type": "code",
   "execution_count": 14,
   "metadata": {},
   "outputs": [
    {
     "name": "stderr",
     "output_type": "stream",
     "text": [
      "  0%|          | 4/5000 [00:03<1:03:31,  1.31it/s]"
     ]
    },
    {
     "name": "stdout",
     "output_type": "stream",
     "text": [
      "Iteration[   1/5000], Training Loss:  4.325428, Validation Loss:  4.329978\n"
     ]
    },
    {
     "name": "stderr",
     "output_type": "stream",
     "text": [
      " 10%|█         | 503/5000 [00:25<22:48,  3.29it/s]"
     ]
    },
    {
     "name": "stdout",
     "output_type": "stream",
     "text": [
      "Iteration[ 501/5000], Training Loss:  2.548220, Validation Loss:  2.550921\n"
     ]
    },
    {
     "name": "stderr",
     "output_type": "stream",
     "text": [
      " 20%|██        | 1005/5000 [00:45<16:51,  3.95it/s]"
     ]
    },
    {
     "name": "stdout",
     "output_type": "stream",
     "text": [
      "Iteration[1001/5000], Training Loss:  2.438302, Validation Loss:  2.448859\n"
     ]
    },
    {
     "name": "stderr",
     "output_type": "stream",
     "text": [
      " 30%|███       | 1503/5000 [01:06<18:30,  3.15it/s]"
     ]
    },
    {
     "name": "stdout",
     "output_type": "stream",
     "text": [
      "Iteration[1501/5000], Training Loss:  2.371189, Validation Loss:  2.380672\n"
     ]
    },
    {
     "name": "stderr",
     "output_type": "stream",
     "text": [
      " 40%|████      | 2004/5000 [01:27<13:05,  3.81it/s]"
     ]
    },
    {
     "name": "stdout",
     "output_type": "stream",
     "text": [
      "Iteration[2001/5000], Training Loss:  2.311938, Validation Loss:  2.319304\n"
     ]
    },
    {
     "name": "stderr",
     "output_type": "stream",
     "text": [
      " 50%|█████     | 2503/5000 [01:48<14:45,  2.82it/s]"
     ]
    },
    {
     "name": "stdout",
     "output_type": "stream",
     "text": [
      "Iteration[2501/5000], Training Loss:  2.246067, Validation Loss:  2.268588\n"
     ]
    },
    {
     "name": "stderr",
     "output_type": "stream",
     "text": [
      " 60%|██████    | 3004/5000 [02:10<09:55,  3.35it/s]"
     ]
    },
    {
     "name": "stdout",
     "output_type": "stream",
     "text": [
      "Iteration[3001/5000], Training Loss:  2.185260, Validation Loss:  2.206081\n"
     ]
    },
    {
     "name": "stderr",
     "output_type": "stream",
     "text": [
      " 70%|███████   | 3504/5000 [02:31<07:01,  3.55it/s]"
     ]
    },
    {
     "name": "stdout",
     "output_type": "stream",
     "text": [
      "Iteration[3501/5000], Training Loss:  2.139150, Validation Loss:  2.170822\n"
     ]
    },
    {
     "name": "stderr",
     "output_type": "stream",
     "text": [
      " 80%|████████  | 4005/5000 [02:52<04:45,  3.49it/s]"
     ]
    },
    {
     "name": "stdout",
     "output_type": "stream",
     "text": [
      "Iteration[4001/5000], Training Loss:  2.096445, Validation Loss:  2.132046\n"
     ]
    },
    {
     "name": "stderr",
     "output_type": "stream",
     "text": [
      " 90%|█████████ | 4505/5000 [03:13<02:21,  3.51it/s]"
     ]
    },
    {
     "name": "stdout",
     "output_type": "stream",
     "text": [
      "Iteration[4501/5000], Training Loss:  2.069629, Validation Loss:  2.103683\n"
     ]
    },
    {
     "name": "stderr",
     "output_type": "stream",
     "text": [
      "100%|██████████| 5000/5000 [03:31<00:00, 23.63it/s]"
     ]
    },
    {
     "name": "stdout",
     "output_type": "stream",
     "text": [
      "Final Loss:\n",
      "\tTraining:  2.069629\n",
      "\tValidation:  2.103683\n"
     ]
    },
    {
     "name": "stderr",
     "output_type": "stream",
     "text": [
      "\n"
     ]
    }
   ],
   "source": [
    "all_losses = train_transformer(\n",
    "    model=model,\n",
    "    optimizer=optimizer,\n",
    "    get_data=get_data,\n",
    "    batch_size=batch_size,\n",
    "    context_length=context_length,\n",
    "    maximum_iterations=max_iters,\n",
    "    eval_intervals=eval_intervals,\n",
    "    eval_iterations=eval_iters\n",
    ")"
   ]
  },
  {
   "cell_type": "code",
   "execution_count": 15,
   "metadata": {},
   "outputs": [
    {
     "name": "stdout",
     "output_type": "stream",
     "text": [
      "User: What is life?\n",
      "Model: What is life?\n",
      "Godry! I I whink tat make happst?\n",
      "\n",
      "ARERT:\n",
      "Yet bato hadd, hat the uld I ram to-dy ve,\n",
      "Jerfor mothass\n"
     ]
    }
   ],
   "source": [
    "generate_next_tokens = 100\n",
    "prompt = 'What is life?'\n",
    "\n",
    "idx = torch.tensor([encode(prompt)], dtype=torch.long, device=device)\n",
    "# idx = torch.zeros((1, 1), dtype=torch.long, device=device)\n",
    "generation = decode(model.generate(idx, max_next_tokens=generate_next_tokens)[0].tolist())\n",
    "print(f'User: {prompt}\\nModel: {generation}')"
   ]
  },
  {
   "cell_type": "code",
   "execution_count": 16,
   "metadata": {},
   "outputs": [
    {
     "data": {
      "image/png": "[encoded data removed]",
      "text/plain": [
       "<Figure size 1000x600 with 1 Axes>"
      ]
     },
     "metadata": {},
     "output_type": "display_data"
    }
   ],
   "source": [
    "df = pd.DataFrame({\n",
    "    'iter': range(len(all_losses[DataSplit.TRAIN])),\n",
    "    'train': all_losses[DataSplit.TRAIN],\n",
    "    'val': all_losses[DataSplit.VALIDATION]\n",
    "})\n",
    "\n",
    "# Melt the DataFrame to create a \"long-form\" DataFrame\n",
    "df_melted = pd.melt(df, id_vars=['iter'], value_vars=['train', 'val'],\n",
    "                    var_name='loss_type', value_name='loss')\n",
    "\n",
    "# Create the plot\n",
    "sns.set_theme()\n",
    "plt.figure(figsize=(10, 6))\n",
    "sns.lineplot(data=df_melted, x='iter', y='loss', hue='loss_type')\n",
    "\n",
    "plt.title('Training and Validation Losses')\n",
    "plt.xlabel('Iteration')\n",
    "plt.ylabel('Loss')\n",
    "plt.legend(title='Loss Type')\n",
    "\n",
    "plt.show()"
   ]
  },
  {
   "cell_type": "code",
   "execution_count": 17,
   "metadata": {},
   "outputs": [],
   "source": [
    "torch.save(model, 'weights/tinyGPT.pb')"
   ]
  }
 ],
 "metadata": {
  "kernelspec": {
   "display_name": "torch",
   "language": "python",
   "name": "python3"
  },
  "language_info": {
   "codemirror_mode": {
    "name": "ipython",
    "version": 3
   },
   "file_extension": ".py",
   "mimetype": "text/x-python",
   "name": "python",
   "nbconvert_exporter": "python",
   "pygments_lexer": "ipython3",
   "version": "3.11.11"
  }
 },
 "nbformat": 4,
 "nbformat_minor": 2
}
